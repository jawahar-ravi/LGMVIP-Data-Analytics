{
  "nbformat": 4,
  "nbformat_minor": 0,
  "metadata": {
    "colab": {
      "name": "stock Market Prediction And Forecasting Using Stacked LSTM (Task-2).ipynb",
      "provenance": []
    },
    "kernelspec": {
      "name": "python3",
      "display_name": "Python 3"
    },
    "language_info": {
      "name": "python"
    }
  },
  "cells": [
    {
      "cell_type": "markdown",
      "metadata": {
        "id": "seuraEMkOpM6"
      },
      "source": [
        "# **LGM - Data science VIP**"
      ]
    },
    {
      "cell_type": "markdown",
      "metadata": {
        "id": "hSUrAyzdQLJW"
      },
      "source": [
        "**Author  : Jawahar R**\n",
        "\n",
        "**Beginner Level**\n",
        "\n"
      ]
    },
    {
      "cell_type": "markdown",
      "metadata": {
        "id": "fnOe1WKAQLym"
      },
      "source": [
        "## **Task 2 :- Stock Market Prediction and Forecasting using Stacked LSTM **\n",
        "\n",
        "\n"
      ]
    },
    {
      "cell_type": "markdown",
      "metadata": {
        "id": "y9Qow3l3RvrT"
      },
      "source": [
        "\n",
        "###**Import the libraries and loading the data**\n",
        "\n",
        "\n",
        "\n"
      ]
    },
    {
      "cell_type": "code",
      "metadata": {
        "id": "wPGPfVrq75A9"
      },
      "source": [
        "import pandas as pd\n",
        "import numpy as np\n",
        "import matplotlib.pyplot as plt\n",
        "import seaborn as sns"
      ],
      "execution_count": 4,
      "outputs": []
    },
    {
      "cell_type": "code",
      "metadata": {
        "colab": {
          "base_uri": "https://localhost:8080/",
          "height": 203
        },
        "id": "ko5Tgtux78Fz",
        "outputId": "86cda4ab-e9c3-40bf-8192-aa3f22d2d109"
      },
      "source": [
        "path = \"https://raw.githubusercontent.com/mwitiderrick/stockprice/master/NSE-TATAGLOBAL.csv\"\n",
        "df = pd.read_csv(path)\n",
        "df.head()"
      ],
      "execution_count": 5,
      "outputs": [
        {
          "output_type": "execute_result",
          "data": {
            "text/html": [
              "<div>\n",
              "<style scoped>\n",
              "    .dataframe tbody tr th:only-of-type {\n",
              "        vertical-align: middle;\n",
              "    }\n",
              "\n",
              "    .dataframe tbody tr th {\n",
              "        vertical-align: top;\n",
              "    }\n",
              "\n",
              "    .dataframe thead th {\n",
              "        text-align: right;\n",
              "    }\n",
              "</style>\n",
              "<table border=\"1\" class=\"dataframe\">\n",
              "  <thead>\n",
              "    <tr style=\"text-align: right;\">\n",
              "      <th></th>\n",
              "      <th>Date</th>\n",
              "      <th>Open</th>\n",
              "      <th>High</th>\n",
              "      <th>Low</th>\n",
              "      <th>Last</th>\n",
              "      <th>Close</th>\n",
              "      <th>Total Trade Quantity</th>\n",
              "      <th>Turnover (Lacs)</th>\n",
              "    </tr>\n",
              "  </thead>\n",
              "  <tbody>\n",
              "    <tr>\n",
              "      <th>0</th>\n",
              "      <td>2018-09-28</td>\n",
              "      <td>234.05</td>\n",
              "      <td>235.95</td>\n",
              "      <td>230.20</td>\n",
              "      <td>233.50</td>\n",
              "      <td>233.75</td>\n",
              "      <td>3069914</td>\n",
              "      <td>7162.35</td>\n",
              "    </tr>\n",
              "    <tr>\n",
              "      <th>1</th>\n",
              "      <td>2018-09-27</td>\n",
              "      <td>234.55</td>\n",
              "      <td>236.80</td>\n",
              "      <td>231.10</td>\n",
              "      <td>233.80</td>\n",
              "      <td>233.25</td>\n",
              "      <td>5082859</td>\n",
              "      <td>11859.95</td>\n",
              "    </tr>\n",
              "    <tr>\n",
              "      <th>2</th>\n",
              "      <td>2018-09-26</td>\n",
              "      <td>240.00</td>\n",
              "      <td>240.00</td>\n",
              "      <td>232.50</td>\n",
              "      <td>235.00</td>\n",
              "      <td>234.25</td>\n",
              "      <td>2240909</td>\n",
              "      <td>5248.60</td>\n",
              "    </tr>\n",
              "    <tr>\n",
              "      <th>3</th>\n",
              "      <td>2018-09-25</td>\n",
              "      <td>233.30</td>\n",
              "      <td>236.75</td>\n",
              "      <td>232.00</td>\n",
              "      <td>236.25</td>\n",
              "      <td>236.10</td>\n",
              "      <td>2349368</td>\n",
              "      <td>5503.90</td>\n",
              "    </tr>\n",
              "    <tr>\n",
              "      <th>4</th>\n",
              "      <td>2018-09-24</td>\n",
              "      <td>233.55</td>\n",
              "      <td>239.20</td>\n",
              "      <td>230.75</td>\n",
              "      <td>234.00</td>\n",
              "      <td>233.30</td>\n",
              "      <td>3423509</td>\n",
              "      <td>7999.55</td>\n",
              "    </tr>\n",
              "  </tbody>\n",
              "</table>\n",
              "</div>"
            ],
            "text/plain": [
              "         Date    Open    High  ...   Close  Total Trade Quantity  Turnover (Lacs)\n",
              "0  2018-09-28  234.05  235.95  ...  233.75               3069914          7162.35\n",
              "1  2018-09-27  234.55  236.80  ...  233.25               5082859         11859.95\n",
              "2  2018-09-26  240.00  240.00  ...  234.25               2240909          5248.60\n",
              "3  2018-09-25  233.30  236.75  ...  236.10               2349368          5503.90\n",
              "4  2018-09-24  233.55  239.20  ...  233.30               3423509          7999.55\n",
              "\n",
              "[5 rows x 8 columns]"
            ]
          },
          "metadata": {},
          "execution_count": 5
        }
      ]
    },
    {
      "cell_type": "code",
      "metadata": {
        "colab": {
          "base_uri": "https://localhost:8080/",
          "height": 203
        },
        "id": "zPVJUD0T8FNw",
        "outputId": "6e9d1ca4-4369-4e40-e3d7-b6ace31b3c88"
      },
      "source": [
        "df.tail()"
      ],
      "execution_count": 6,
      "outputs": [
        {
          "output_type": "execute_result",
          "data": {
            "text/html": [
              "<div>\n",
              "<style scoped>\n",
              "    .dataframe tbody tr th:only-of-type {\n",
              "        vertical-align: middle;\n",
              "    }\n",
              "\n",
              "    .dataframe tbody tr th {\n",
              "        vertical-align: top;\n",
              "    }\n",
              "\n",
              "    .dataframe thead th {\n",
              "        text-align: right;\n",
              "    }\n",
              "</style>\n",
              "<table border=\"1\" class=\"dataframe\">\n",
              "  <thead>\n",
              "    <tr style=\"text-align: right;\">\n",
              "      <th></th>\n",
              "      <th>Date</th>\n",
              "      <th>Open</th>\n",
              "      <th>High</th>\n",
              "      <th>Low</th>\n",
              "      <th>Last</th>\n",
              "      <th>Close</th>\n",
              "      <th>Total Trade Quantity</th>\n",
              "      <th>Turnover (Lacs)</th>\n",
              "    </tr>\n",
              "  </thead>\n",
              "  <tbody>\n",
              "    <tr>\n",
              "      <th>2030</th>\n",
              "      <td>2010-07-27</td>\n",
              "      <td>117.6</td>\n",
              "      <td>119.50</td>\n",
              "      <td>112.00</td>\n",
              "      <td>118.80</td>\n",
              "      <td>118.65</td>\n",
              "      <td>586100</td>\n",
              "      <td>694.98</td>\n",
              "    </tr>\n",
              "    <tr>\n",
              "      <th>2031</th>\n",
              "      <td>2010-07-26</td>\n",
              "      <td>120.1</td>\n",
              "      <td>121.00</td>\n",
              "      <td>117.10</td>\n",
              "      <td>117.10</td>\n",
              "      <td>117.60</td>\n",
              "      <td>658440</td>\n",
              "      <td>780.01</td>\n",
              "    </tr>\n",
              "    <tr>\n",
              "      <th>2032</th>\n",
              "      <td>2010-07-23</td>\n",
              "      <td>121.8</td>\n",
              "      <td>121.95</td>\n",
              "      <td>120.25</td>\n",
              "      <td>120.35</td>\n",
              "      <td>120.65</td>\n",
              "      <td>281312</td>\n",
              "      <td>340.31</td>\n",
              "    </tr>\n",
              "    <tr>\n",
              "      <th>2033</th>\n",
              "      <td>2010-07-22</td>\n",
              "      <td>120.3</td>\n",
              "      <td>122.00</td>\n",
              "      <td>120.25</td>\n",
              "      <td>120.75</td>\n",
              "      <td>120.90</td>\n",
              "      <td>293312</td>\n",
              "      <td>355.17</td>\n",
              "    </tr>\n",
              "    <tr>\n",
              "      <th>2034</th>\n",
              "      <td>2010-07-21</td>\n",
              "      <td>122.1</td>\n",
              "      <td>123.00</td>\n",
              "      <td>121.05</td>\n",
              "      <td>121.10</td>\n",
              "      <td>121.55</td>\n",
              "      <td>658666</td>\n",
              "      <td>803.56</td>\n",
              "    </tr>\n",
              "  </tbody>\n",
              "</table>\n",
              "</div>"
            ],
            "text/plain": [
              "            Date   Open    High  ...   Close  Total Trade Quantity  Turnover (Lacs)\n",
              "2030  2010-07-27  117.6  119.50  ...  118.65                586100           694.98\n",
              "2031  2010-07-26  120.1  121.00  ...  117.60                658440           780.01\n",
              "2032  2010-07-23  121.8  121.95  ...  120.65                281312           340.31\n",
              "2033  2010-07-22  120.3  122.00  ...  120.90                293312           355.17\n",
              "2034  2010-07-21  122.1  123.00  ...  121.55                658666           803.56\n",
              "\n",
              "[5 rows x 8 columns]"
            ]
          },
          "metadata": {},
          "execution_count": 6
        }
      ]
    },
    {
      "cell_type": "code",
      "metadata": {
        "colab": {
          "base_uri": "https://localhost:8080/"
        },
        "id": "PgoGQ9YgXBBj",
        "outputId": "4e8c825c-7e92-4bdd-a2dc-9d13345bef6b"
      },
      "source": [
        "print(df.shape)\n",
        "print(len(df))"
      ],
      "execution_count": 7,
      "outputs": [
        {
          "output_type": "stream",
          "name": "stdout",
          "text": [
            "(2035, 8)\n",
            "2035\n"
          ]
        }
      ]
    },
    {
      "cell_type": "code",
      "metadata": {
        "colab": {
          "base_uri": "https://localhost:8080/",
          "height": 547
        },
        "id": "341a9LQW8gAG",
        "outputId": "a0bb0d80-f0ee-4101-e620-05ae5e324b24"
      },
      "source": [
        "df.info()\n",
        "df.describe()"
      ],
      "execution_count": 8,
      "outputs": [
        {
          "output_type": "stream",
          "name": "stdout",
          "text": [
            "<class 'pandas.core.frame.DataFrame'>\n",
            "RangeIndex: 2035 entries, 0 to 2034\n",
            "Data columns (total 8 columns):\n",
            " #   Column                Non-Null Count  Dtype  \n",
            "---  ------                --------------  -----  \n",
            " 0   Date                  2035 non-null   object \n",
            " 1   Open                  2035 non-null   float64\n",
            " 2   High                  2035 non-null   float64\n",
            " 3   Low                   2035 non-null   float64\n",
            " 4   Last                  2035 non-null   float64\n",
            " 5   Close                 2035 non-null   float64\n",
            " 6   Total Trade Quantity  2035 non-null   int64  \n",
            " 7   Turnover (Lacs)       2035 non-null   float64\n",
            "dtypes: float64(6), int64(1), object(1)\n",
            "memory usage: 127.3+ KB\n"
          ]
        },
        {
          "output_type": "execute_result",
          "data": {
            "text/html": [
              "<div>\n",
              "<style scoped>\n",
              "    .dataframe tbody tr th:only-of-type {\n",
              "        vertical-align: middle;\n",
              "    }\n",
              "\n",
              "    .dataframe tbody tr th {\n",
              "        vertical-align: top;\n",
              "    }\n",
              "\n",
              "    .dataframe thead th {\n",
              "        text-align: right;\n",
              "    }\n",
              "</style>\n",
              "<table border=\"1\" class=\"dataframe\">\n",
              "  <thead>\n",
              "    <tr style=\"text-align: right;\">\n",
              "      <th></th>\n",
              "      <th>Open</th>\n",
              "      <th>High</th>\n",
              "      <th>Low</th>\n",
              "      <th>Last</th>\n",
              "      <th>Close</th>\n",
              "      <th>Total Trade Quantity</th>\n",
              "      <th>Turnover (Lacs)</th>\n",
              "    </tr>\n",
              "  </thead>\n",
              "  <tbody>\n",
              "    <tr>\n",
              "      <th>count</th>\n",
              "      <td>2035.000000</td>\n",
              "      <td>2035.000000</td>\n",
              "      <td>2035.000000</td>\n",
              "      <td>2035.000000</td>\n",
              "      <td>2035.00000</td>\n",
              "      <td>2.035000e+03</td>\n",
              "      <td>2035.000000</td>\n",
              "    </tr>\n",
              "    <tr>\n",
              "      <th>mean</th>\n",
              "      <td>149.713735</td>\n",
              "      <td>151.992826</td>\n",
              "      <td>147.293931</td>\n",
              "      <td>149.474251</td>\n",
              "      <td>149.45027</td>\n",
              "      <td>2.335681e+06</td>\n",
              "      <td>3899.980565</td>\n",
              "    </tr>\n",
              "    <tr>\n",
              "      <th>std</th>\n",
              "      <td>48.664509</td>\n",
              "      <td>49.413109</td>\n",
              "      <td>47.931958</td>\n",
              "      <td>48.732570</td>\n",
              "      <td>48.71204</td>\n",
              "      <td>2.091778e+06</td>\n",
              "      <td>4570.767877</td>\n",
              "    </tr>\n",
              "    <tr>\n",
              "      <th>min</th>\n",
              "      <td>81.100000</td>\n",
              "      <td>82.800000</td>\n",
              "      <td>80.000000</td>\n",
              "      <td>81.000000</td>\n",
              "      <td>80.95000</td>\n",
              "      <td>3.961000e+04</td>\n",
              "      <td>37.040000</td>\n",
              "    </tr>\n",
              "    <tr>\n",
              "      <th>25%</th>\n",
              "      <td>120.025000</td>\n",
              "      <td>122.100000</td>\n",
              "      <td>118.300000</td>\n",
              "      <td>120.075000</td>\n",
              "      <td>120.05000</td>\n",
              "      <td>1.146444e+06</td>\n",
              "      <td>1427.460000</td>\n",
              "    </tr>\n",
              "    <tr>\n",
              "      <th>50%</th>\n",
              "      <td>141.500000</td>\n",
              "      <td>143.400000</td>\n",
              "      <td>139.600000</td>\n",
              "      <td>141.100000</td>\n",
              "      <td>141.25000</td>\n",
              "      <td>1.783456e+06</td>\n",
              "      <td>2512.030000</td>\n",
              "    </tr>\n",
              "    <tr>\n",
              "      <th>75%</th>\n",
              "      <td>157.175000</td>\n",
              "      <td>159.400000</td>\n",
              "      <td>155.150000</td>\n",
              "      <td>156.925000</td>\n",
              "      <td>156.90000</td>\n",
              "      <td>2.813594e+06</td>\n",
              "      <td>4539.015000</td>\n",
              "    </tr>\n",
              "    <tr>\n",
              "      <th>max</th>\n",
              "      <td>327.700000</td>\n",
              "      <td>328.750000</td>\n",
              "      <td>321.650000</td>\n",
              "      <td>325.950000</td>\n",
              "      <td>325.75000</td>\n",
              "      <td>2.919102e+07</td>\n",
              "      <td>55755.080000</td>\n",
              "    </tr>\n",
              "  </tbody>\n",
              "</table>\n",
              "</div>"
            ],
            "text/plain": [
              "              Open         High  ...  Total Trade Quantity  Turnover (Lacs)\n",
              "count  2035.000000  2035.000000  ...          2.035000e+03      2035.000000\n",
              "mean    149.713735   151.992826  ...          2.335681e+06      3899.980565\n",
              "std      48.664509    49.413109  ...          2.091778e+06      4570.767877\n",
              "min      81.100000    82.800000  ...          3.961000e+04        37.040000\n",
              "25%     120.025000   122.100000  ...          1.146444e+06      1427.460000\n",
              "50%     141.500000   143.400000  ...          1.783456e+06      2512.030000\n",
              "75%     157.175000   159.400000  ...          2.813594e+06      4539.015000\n",
              "max     327.700000   328.750000  ...          2.919102e+07     55755.080000\n",
              "\n",
              "[8 rows x 7 columns]"
            ]
          },
          "metadata": {},
          "execution_count": 8
        }
      ]
    },
    {
      "cell_type": "code",
      "metadata": {
        "id": "vItslR_A8nRI"
      },
      "source": [
        "df['Date'] = pd.to_datetime(df['Date'])"
      ],
      "execution_count": 9,
      "outputs": []
    },
    {
      "cell_type": "code",
      "metadata": {
        "colab": {
          "base_uri": "https://localhost:8080/",
          "height": 417
        },
        "id": "e4N0atO48oVP",
        "outputId": "99c8904e-d20c-4449-cf7c-5508d106f204"
      },
      "source": [
        "#sorting the values of data based on date\n",
        "\n",
        "df.sort_values(by='Date',ignore_index=True,inplace=True)\n",
        "df"
      ],
      "execution_count": 10,
      "outputs": [
        {
          "output_type": "execute_result",
          "data": {
            "text/html": [
              "<div>\n",
              "<style scoped>\n",
              "    .dataframe tbody tr th:only-of-type {\n",
              "        vertical-align: middle;\n",
              "    }\n",
              "\n",
              "    .dataframe tbody tr th {\n",
              "        vertical-align: top;\n",
              "    }\n",
              "\n",
              "    .dataframe thead th {\n",
              "        text-align: right;\n",
              "    }\n",
              "</style>\n",
              "<table border=\"1\" class=\"dataframe\">\n",
              "  <thead>\n",
              "    <tr style=\"text-align: right;\">\n",
              "      <th></th>\n",
              "      <th>Date</th>\n",
              "      <th>Open</th>\n",
              "      <th>High</th>\n",
              "      <th>Low</th>\n",
              "      <th>Last</th>\n",
              "      <th>Close</th>\n",
              "      <th>Total Trade Quantity</th>\n",
              "      <th>Turnover (Lacs)</th>\n",
              "    </tr>\n",
              "  </thead>\n",
              "  <tbody>\n",
              "    <tr>\n",
              "      <th>0</th>\n",
              "      <td>2010-07-21</td>\n",
              "      <td>122.10</td>\n",
              "      <td>123.00</td>\n",
              "      <td>121.05</td>\n",
              "      <td>121.10</td>\n",
              "      <td>121.55</td>\n",
              "      <td>658666</td>\n",
              "      <td>803.56</td>\n",
              "    </tr>\n",
              "    <tr>\n",
              "      <th>1</th>\n",
              "      <td>2010-07-22</td>\n",
              "      <td>120.30</td>\n",
              "      <td>122.00</td>\n",
              "      <td>120.25</td>\n",
              "      <td>120.75</td>\n",
              "      <td>120.90</td>\n",
              "      <td>293312</td>\n",
              "      <td>355.17</td>\n",
              "    </tr>\n",
              "    <tr>\n",
              "      <th>2</th>\n",
              "      <td>2010-07-23</td>\n",
              "      <td>121.80</td>\n",
              "      <td>121.95</td>\n",
              "      <td>120.25</td>\n",
              "      <td>120.35</td>\n",
              "      <td>120.65</td>\n",
              "      <td>281312</td>\n",
              "      <td>340.31</td>\n",
              "    </tr>\n",
              "    <tr>\n",
              "      <th>3</th>\n",
              "      <td>2010-07-26</td>\n",
              "      <td>120.10</td>\n",
              "      <td>121.00</td>\n",
              "      <td>117.10</td>\n",
              "      <td>117.10</td>\n",
              "      <td>117.60</td>\n",
              "      <td>658440</td>\n",
              "      <td>780.01</td>\n",
              "    </tr>\n",
              "    <tr>\n",
              "      <th>4</th>\n",
              "      <td>2010-07-27</td>\n",
              "      <td>117.60</td>\n",
              "      <td>119.50</td>\n",
              "      <td>112.00</td>\n",
              "      <td>118.80</td>\n",
              "      <td>118.65</td>\n",
              "      <td>586100</td>\n",
              "      <td>694.98</td>\n",
              "    </tr>\n",
              "    <tr>\n",
              "      <th>...</th>\n",
              "      <td>...</td>\n",
              "      <td>...</td>\n",
              "      <td>...</td>\n",
              "      <td>...</td>\n",
              "      <td>...</td>\n",
              "      <td>...</td>\n",
              "      <td>...</td>\n",
              "      <td>...</td>\n",
              "    </tr>\n",
              "    <tr>\n",
              "      <th>2030</th>\n",
              "      <td>2018-09-24</td>\n",
              "      <td>233.55</td>\n",
              "      <td>239.20</td>\n",
              "      <td>230.75</td>\n",
              "      <td>234.00</td>\n",
              "      <td>233.30</td>\n",
              "      <td>3423509</td>\n",
              "      <td>7999.55</td>\n",
              "    </tr>\n",
              "    <tr>\n",
              "      <th>2031</th>\n",
              "      <td>2018-09-25</td>\n",
              "      <td>233.30</td>\n",
              "      <td>236.75</td>\n",
              "      <td>232.00</td>\n",
              "      <td>236.25</td>\n",
              "      <td>236.10</td>\n",
              "      <td>2349368</td>\n",
              "      <td>5503.90</td>\n",
              "    </tr>\n",
              "    <tr>\n",
              "      <th>2032</th>\n",
              "      <td>2018-09-26</td>\n",
              "      <td>240.00</td>\n",
              "      <td>240.00</td>\n",
              "      <td>232.50</td>\n",
              "      <td>235.00</td>\n",
              "      <td>234.25</td>\n",
              "      <td>2240909</td>\n",
              "      <td>5248.60</td>\n",
              "    </tr>\n",
              "    <tr>\n",
              "      <th>2033</th>\n",
              "      <td>2018-09-27</td>\n",
              "      <td>234.55</td>\n",
              "      <td>236.80</td>\n",
              "      <td>231.10</td>\n",
              "      <td>233.80</td>\n",
              "      <td>233.25</td>\n",
              "      <td>5082859</td>\n",
              "      <td>11859.95</td>\n",
              "    </tr>\n",
              "    <tr>\n",
              "      <th>2034</th>\n",
              "      <td>2018-09-28</td>\n",
              "      <td>234.05</td>\n",
              "      <td>235.95</td>\n",
              "      <td>230.20</td>\n",
              "      <td>233.50</td>\n",
              "      <td>233.75</td>\n",
              "      <td>3069914</td>\n",
              "      <td>7162.35</td>\n",
              "    </tr>\n",
              "  </tbody>\n",
              "</table>\n",
              "<p>2035 rows × 8 columns</p>\n",
              "</div>"
            ],
            "text/plain": [
              "           Date    Open    High  ...   Close  Total Trade Quantity  Turnover (Lacs)\n",
              "0    2010-07-21  122.10  123.00  ...  121.55                658666           803.56\n",
              "1    2010-07-22  120.30  122.00  ...  120.90                293312           355.17\n",
              "2    2010-07-23  121.80  121.95  ...  120.65                281312           340.31\n",
              "3    2010-07-26  120.10  121.00  ...  117.60                658440           780.01\n",
              "4    2010-07-27  117.60  119.50  ...  118.65                586100           694.98\n",
              "...         ...     ...     ...  ...     ...                   ...              ...\n",
              "2030 2018-09-24  233.55  239.20  ...  233.30               3423509          7999.55\n",
              "2031 2018-09-25  233.30  236.75  ...  236.10               2349368          5503.90\n",
              "2032 2018-09-26  240.00  240.00  ...  234.25               2240909          5248.60\n",
              "2033 2018-09-27  234.55  236.80  ...  233.25               5082859         11859.95\n",
              "2034 2018-09-28  234.05  235.95  ...  233.75               3069914          7162.35\n",
              "\n",
              "[2035 rows x 8 columns]"
            ]
          },
          "metadata": {},
          "execution_count": 10
        }
      ]
    },
    {
      "cell_type": "code",
      "metadata": {
        "id": "VUmgfz7u8qHH"
      },
      "source": [
        "df_close = df.reset_index()['Close']"
      ],
      "execution_count": 11,
      "outputs": []
    },
    {
      "cell_type": "code",
      "metadata": {
        "colab": {
          "base_uri": "https://localhost:8080/"
        },
        "id": "FuiV2Scr8tTV",
        "outputId": "8ce11947-1123-4268-c707-7a2a7f0d880f"
      },
      "source": [
        "df_close"
      ],
      "execution_count": 12,
      "outputs": [
        {
          "output_type": "execute_result",
          "data": {
            "text/plain": [
              "0       121.55\n",
              "1       120.90\n",
              "2       120.65\n",
              "3       117.60\n",
              "4       118.65\n",
              "         ...  \n",
              "2030    233.30\n",
              "2031    236.10\n",
              "2032    234.25\n",
              "2033    233.25\n",
              "2034    233.75\n",
              "Name: Close, Length: 2035, dtype: float64"
            ]
          },
          "metadata": {},
          "execution_count": 12
        }
      ]
    },
    {
      "cell_type": "markdown",
      "metadata": {
        "id": "Vjp0J0ukSkPJ"
      },
      "source": [
        "## **plotting the Close value** "
      ]
    },
    {
      "cell_type": "code",
      "metadata": {
        "colab": {
          "base_uri": "https://localhost:8080/",
          "height": 282
        },
        "id": "okS0QYrW87Gn",
        "outputId": "10c63caf-e0c1-4675-a6a7-92af5da99fc8"
      },
      "source": [
        "df_close.plot()"
      ],
      "execution_count": 13,
      "outputs": [
        {
          "output_type": "execute_result",
          "data": {
            "text/plain": [
              "<matplotlib.axes._subplots.AxesSubplot at 0x7f403b259250>"
            ]
          },
          "metadata": {},
          "execution_count": 13
        },
        {
          "output_type": "display_data",
          "data": {
            "image/png": "[encoded data removed]",
            "text/plain": [
              "<Figure size 432x288 with 1 Axes>"
            ]
          },
          "metadata": {
            "needs_background": "light"
          }
        }
      ]
    },
    {
      "cell_type": "markdown",
      "metadata": {
        "id": "A9P0n8k1TaV6"
      },
      "source": [
        "## **Scaling the input**"
      ]
    },
    {
      "cell_type": "code",
      "metadata": {
        "colab": {
          "base_uri": "https://localhost:8080/"
        },
        "id": "hm-zPo6h89Vk",
        "outputId": "83c21a35-8d14-4576-ecee-b5bc0e48529a"
      },
      "source": [
        "#scaling\n",
        "from sklearn.preprocessing import MinMaxScaler\n",
        "scale = MinMaxScaler(feature_range=(0,1))\n",
        "df1 = scale.fit_transform(np.array(df_close).reshape(-1,1))\n",
        "df1"
      ],
      "execution_count": 14,
      "outputs": [
        {
          "output_type": "execute_result",
          "data": {
            "text/plain": [
              "array([[0.16584967],\n",
              "       [0.16319444],\n",
              "       [0.1621732 ],\n",
              "       ...,\n",
              "       [0.62622549],\n",
              "       [0.62214052],\n",
              "       [0.62418301]])"
            ]
          },
          "metadata": {},
          "execution_count": 14
        }
      ]
    },
    {
      "cell_type": "markdown",
      "metadata": {
        "id": "mZeNDmqGTuNH"
      },
      "source": [
        "## **Spiltting the data into train and test**"
      ]
    },
    {
      "cell_type": "code",
      "metadata": {
        "id": "ejxCQ9Zm9Aq-"
      },
      "source": [
        "#spiltting \n",
        "train_size = int(len(df1)*0.80)\n",
        "test_size = len(df1)-train_size\n",
        "train_data = df1[0:train_size,:]\n",
        "test_data = df1[train_size:len(df1),:]"
      ],
      "execution_count": 15,
      "outputs": []
    },
    {
      "cell_type": "code",
      "metadata": {
        "colab": {
          "base_uri": "https://localhost:8080/"
        },
        "id": "qr2jePAL9DCZ",
        "outputId": "f4858a44-7420-4f18-a79e-486edbc95505"
      },
      "source": [
        "train_data"
      ],
      "execution_count": 16,
      "outputs": [
        {
          "output_type": "execute_result",
          "data": {
            "text/plain": [
              "array([[0.16584967],\n",
              "       [0.16319444],\n",
              "       [0.1621732 ],\n",
              "       ...,\n",
              "       [0.24877451],\n",
              "       [0.25245098],\n",
              "       [0.24795752]])"
            ]
          },
          "metadata": {},
          "execution_count": 16
        }
      ]
    },
    {
      "cell_type": "code",
      "metadata": {
        "colab": {
          "base_uri": "https://localhost:8080/"
        },
        "id": "XUWhzbFz9FJ0",
        "outputId": "b37433bd-8965-4861-af63-5c5b73ee7026"
      },
      "source": [
        "test_data"
      ],
      "execution_count": 17,
      "outputs": [
        {
          "output_type": "execute_result",
          "data": {
            "text/plain": [
              "array([[0.26633987],\n",
              "       [0.25714869],\n",
              "       [0.25735294],\n",
              "       [0.24918301],\n",
              "       [0.24611928],\n",
              "       [0.23611111],\n",
              "       [0.24162582],\n",
              "       [0.24183007],\n",
              "       [0.24775327],\n",
              "       [0.24775327],\n",
              "       [0.24121732],\n",
              "       [0.23815359],\n",
              "       [0.23672386],\n",
              "       [0.23325163],\n",
              "       [0.2559232 ],\n",
              "       [0.24571078],\n",
              "       [0.25490196],\n",
              "       [0.25449346],\n",
              "       [0.25245098],\n",
              "       [0.24693627],\n",
              "       [0.24448529],\n",
              "       [0.22937092],\n",
              "       [0.23917484],\n",
              "       [0.24489379],\n",
              "       [0.26041667],\n",
              "       [0.26082516],\n",
              "       [0.26756536],\n",
              "       [0.26531863],\n",
              "       [0.25388072],\n",
              "       [0.28860294],\n",
              "       [0.28676471],\n",
              "       [0.27634804],\n",
              "       [0.28431373],\n",
              "       [0.28451797],\n",
              "       [0.28267974],\n",
              "       [0.28431373],\n",
              "       [0.28982843],\n",
              "       [0.29289216],\n",
              "       [0.29452614],\n",
              "       [0.28451797],\n",
              "       [0.28594771],\n",
              "       [0.29595588],\n",
              "       [0.28921569],\n",
              "       [0.28410948],\n",
              "       [0.27982026],\n",
              "       [0.2745098 ],\n",
              "       [0.28288399],\n",
              "       [0.29084967],\n",
              "       [0.28737745],\n",
              "       [0.29003268],\n",
              "       [0.28901144],\n",
              "       [0.29738562],\n",
              "       [0.29064542],\n",
              "       [0.29473039],\n",
              "       [0.31352124],\n",
              "       [0.30739379],\n",
              "       [0.30392157],\n",
              "       [0.29146242],\n",
              "       [0.29268791],\n",
              "       [0.29861111],\n",
              "       [0.30187908],\n",
              "       [0.29840686],\n",
              "       [0.29289216],\n",
              "       [0.30085784],\n",
              "       [0.3002451 ],\n",
              "       [0.29370915],\n",
              "       [0.27185458],\n",
              "       [0.28002451],\n",
              "       [0.27308007],\n",
              "       [0.26062092],\n",
              "       [0.24816176],\n",
              "       [0.25367647],\n",
              "       [0.26940359],\n",
              "       [0.26327614],\n",
              "       [0.26388889],\n",
              "       [0.27961601],\n",
              "       [0.29187092],\n",
              "       [0.30187908],\n",
              "       [0.30228758],\n",
              "       [0.2943219 ],\n",
              "       [0.30473856],\n",
              "       [0.30085784],\n",
              "       [0.30004085],\n",
              "       [0.29064542],\n",
              "       [0.30841503],\n",
              "       [0.31658497],\n",
              "       [0.3192402 ],\n",
              "       [0.31556373],\n",
              "       [0.30821078],\n",
              "       [0.31004902],\n",
              "       [0.30984477],\n",
              "       [0.30147059],\n",
              "       [0.28676471],\n",
              "       [0.27124183],\n",
              "       [0.27859477],\n",
              "       [0.27593954],\n",
              "       [0.28472222],\n",
              "       [0.28860294],\n",
              "       [0.28227124],\n",
              "       [0.30718954],\n",
              "       [0.29575163],\n",
              "       [0.31372549],\n",
              "       [0.3496732 ],\n",
              "       [0.36172386],\n",
              "       [0.37908497],\n",
              "       [0.38582516],\n",
              "       [0.3809232 ],\n",
              "       [0.39236111],\n",
              "       [0.37908497],\n",
              "       [0.38480392],\n",
              "       [0.3690768 ],\n",
              "       [0.37275327],\n",
              "       [0.36376634],\n",
              "       [0.36846405],\n",
              "       [0.37275327],\n",
              "       [0.35723039],\n",
              "       [0.36029412],\n",
              "       [0.3619281 ],\n",
              "       [0.35355392],\n",
              "       [0.34375   ],\n",
              "       [0.3500817 ],\n",
              "       [0.34926471],\n",
              "       [0.36560458],\n",
              "       [0.34742647],\n",
              "       [0.3314951 ],\n",
              "       [0.3065768 ],\n",
              "       [0.34007353],\n",
              "       [0.3995098 ],\n",
              "       [0.46119281],\n",
              "       [0.44791667],\n",
              "       [0.46343954],\n",
              "       [0.47058824],\n",
              "       [0.44485294],\n",
              "       [0.47222222],\n",
              "       [0.4628268 ],\n",
              "       [0.45894608],\n",
              "       [0.44689542],\n",
              "       [0.47426471],\n",
              "       [0.47814542],\n",
              "       [0.47651144],\n",
              "       [0.45894608],\n",
              "       [0.47283497],\n",
              "       [0.51062092],\n",
              "       [0.50980392],\n",
              "       [0.51450163],\n",
              "       [0.52410131],\n",
              "       [0.53553922],\n",
              "       [0.51613562],\n",
              "       [0.53553922],\n",
              "       [0.52941176],\n",
              "       [0.54064542],\n",
              "       [0.55249183],\n",
              "       [0.54227941],\n",
              "       [0.53615196],\n",
              "       [0.49101307],\n",
              "       [0.47263072],\n",
              "       [0.50531046],\n",
              "       [0.48059641],\n",
              "       [0.49918301],\n",
              "       [0.51000817],\n",
              "       [0.5126634 ],\n",
              "       [0.50653595],\n",
              "       [0.5249183 ],\n",
              "       [0.52553105],\n",
              "       [0.52022059],\n",
              "       [0.52083333],\n",
              "       [0.52471405],\n",
              "       [0.53533497],\n",
              "       [0.52818627],\n",
              "       [0.52553105],\n",
              "       [0.52839052],\n",
              "       [0.51409314],\n",
              "       [0.50510621],\n",
              "       [0.49897876],\n",
              "       [0.52573529],\n",
              "       [0.50796569],\n",
              "       [0.52634804],\n",
              "       [0.57005719],\n",
              "       [0.59579248],\n",
              "       [0.59640523],\n",
              "       [0.59987745],\n",
              "       [0.59395425],\n",
              "       [0.58966503],\n",
              "       [0.62806373],\n",
              "       [0.58843954],\n",
              "       [0.58639706],\n",
              "       [0.65155229],\n",
              "       [0.63398693],\n",
              "       [0.62683824],\n",
              "       [0.67708333],\n",
              "       [0.6942402 ],\n",
              "       [0.69852941],\n",
              "       [0.7310049 ],\n",
              "       [0.79227941],\n",
              "       [0.78513072],\n",
              "       [0.78880719],\n",
              "       [0.79187092],\n",
              "       [0.80780229],\n",
              "       [0.80269608],\n",
              "       [0.84477124],\n",
              "       [0.81392974],\n",
              "       [0.84211601],\n",
              "       [0.82761438],\n",
              "       [0.80923203],\n",
              "       [0.8129085 ],\n",
              "       [0.79248366],\n",
              "       [0.82945261],\n",
              "       [0.84763072],\n",
              "       [0.8880719 ],\n",
              "       [0.84497549],\n",
              "       [0.83129085],\n",
              "       [0.8306781 ],\n",
              "       [0.84109477],\n",
              "       [0.85743464],\n",
              "       [0.89746732],\n",
              "       [0.89828431],\n",
              "       [0.89542484],\n",
              "       [0.90604575],\n",
              "       [0.91911765],\n",
              "       [0.91748366],\n",
              "       [0.92177288],\n",
              "       [0.96180556],\n",
              "       [0.94750817],\n",
              "       [0.94035948],\n",
              "       [0.94056373],\n",
              "       [0.94485294],\n",
              "       [0.94771242],\n",
              "       [0.96670752],\n",
              "       [0.95731209],\n",
              "       [0.95241013],\n",
              "       [0.94914216],\n",
              "       [1.        ],\n",
              "       [0.98876634],\n",
              "       [0.96180556],\n",
              "       [0.9501634 ],\n",
              "       [0.91707516],\n",
              "       [0.92892157],\n",
              "       [0.93096405],\n",
              "       [0.92422386],\n",
              "       [0.9121732 ],\n",
              "       [0.9121732 ],\n",
              "       [0.90216503],\n",
              "       [0.91115196],\n",
              "       [0.85661765],\n",
              "       [0.84722222],\n",
              "       [0.79207516],\n",
              "       [0.78492647],\n",
              "       [0.75878268],\n",
              "       [0.81372549],\n",
              "       [0.81495098],\n",
              "       [0.80596405],\n",
              "       [0.83394608],\n",
              "       [0.82107843],\n",
              "       [0.80923203],\n",
              "       [0.79513889],\n",
              "       [0.76388889],\n",
              "       [0.74305556],\n",
              "       [0.75837418],\n",
              "       [0.74019608],\n",
              "       [0.77512255],\n",
              "       [0.78656046],\n",
              "       [0.79268791],\n",
              "       [0.79473039],\n",
              "       [0.79207516],\n",
              "       [0.79534314],\n",
              "       [0.78921569],\n",
              "       [0.76776961],\n",
              "       [0.78615196],\n",
              "       [0.76552288],\n",
              "       [0.79697712],\n",
              "       [0.8057598 ],\n",
              "       [0.80698529],\n",
              "       [0.81147876],\n",
              "       [0.78206699],\n",
              "       [0.73386438],\n",
              "       [0.73978758],\n",
              "       [0.74448529],\n",
              "       [0.72671569],\n",
              "       [0.72283497],\n",
              "       [0.74040033],\n",
              "       [0.74693627],\n",
              "       [0.72630719],\n",
              "       [0.80065359],\n",
              "       [0.79187092],\n",
              "       [0.77328431],\n",
              "       [0.78451797],\n",
              "       [0.78329248],\n",
              "       [0.80412582],\n",
              "       [0.79473039],\n",
              "       [0.7879902 ],\n",
              "       [0.7879902 ],\n",
              "       [0.79473039],\n",
              "       [0.81168301],\n",
              "       [0.81699346],\n",
              "       [0.82986111],\n",
              "       [0.83843954],\n",
              "       [0.83884804],\n",
              "       [0.82781863],\n",
              "       [0.82598039],\n",
              "       [0.85028595],\n",
              "       [0.85886438],\n",
              "       [0.86254085],\n",
              "       [0.88480392],\n",
              "       [0.86519608],\n",
              "       [0.84027778],\n",
              "       [0.84497549],\n",
              "       [0.87111928],\n",
              "       [0.85273693],\n",
              "       [0.86213235],\n",
              "       [0.83455882],\n",
              "       [0.84375   ],\n",
              "       [0.71466503],\n",
              "       [0.66053922],\n",
              "       [0.65420752],\n",
              "       [0.68035131],\n",
              "       [0.6689134 ],\n",
              "       [0.66421569],\n",
              "       [0.67892157],\n",
              "       [0.69138072],\n",
              "       [0.70894608],\n",
              "       [0.72263072],\n",
              "       [0.73406863],\n",
              "       [0.72120098],\n",
              "       [0.74979575],\n",
              "       [0.7689951 ],\n",
              "       [0.74468954],\n",
              "       [0.7120098 ],\n",
              "       [0.74673203],\n",
              "       [0.75490196],\n",
              "       [0.76041667],\n",
              "       [0.75980392],\n",
              "       [0.74652778],\n",
              "       [0.76245915],\n",
              "       [0.77062908],\n",
              "       [0.80412582],\n",
              "       [0.78104575],\n",
              "       [0.79411765],\n",
              "       [0.76021242],\n",
              "       [0.73488562],\n",
              "       [0.72406046],\n",
              "       [0.73999183],\n",
              "       [0.74979575],\n",
              "       [0.76143791],\n",
              "       [0.75428922],\n",
              "       [0.74754902],\n",
              "       [0.76960784],\n",
              "       [0.7495915 ],\n",
              "       [0.81719771],\n",
              "       [0.80208333],\n",
              "       [0.77736928],\n",
              "       [0.75714869],\n",
              "       [0.79370915],\n",
              "       [0.79166667],\n",
              "       [0.77144608],\n",
              "       [0.75265523],\n",
              "       [0.72691993],\n",
              "       [0.6629902 ],\n",
              "       [0.68198529],\n",
              "       [0.64419935],\n",
              "       [0.62152778],\n",
              "       [0.6439951 ],\n",
              "       [0.66319444],\n",
              "       [0.67544935],\n",
              "       [0.63705065],\n",
              "       [0.64603758],\n",
              "       [0.65890523],\n",
              "       [0.65870098],\n",
              "       [0.67790033],\n",
              "       [0.63194444],\n",
              "       [0.63112745],\n",
              "       [0.62785948],\n",
              "       [0.64767157],\n",
              "       [0.63991013],\n",
              "       [0.63480392],\n",
              "       [0.63868464],\n",
              "       [0.62336601],\n",
              "       [0.62745098],\n",
              "       [0.63970588],\n",
              "       [0.64705882],\n",
              "       [0.66196895],\n",
              "       [0.67075163],\n",
              "       [0.65196078],\n",
              "       [0.63112745],\n",
              "       [0.61294935],\n",
              "       [0.6376634 ],\n",
              "       [0.62254902],\n",
              "       [0.62745098],\n",
              "       [0.63337418],\n",
              "       [0.62642974],\n",
              "       [0.63623366],\n",
              "       [0.58312908],\n",
              "       [0.57781863],\n",
              "       [0.57230392],\n",
              "       [0.58006536],\n",
              "       [0.57618464],\n",
              "       [0.55167484],\n",
              "       [0.57883987],\n",
              "       [0.625     ],\n",
              "       [0.63582516],\n",
              "       [0.62949346],\n",
              "       [0.62888072],\n",
              "       [0.62765523],\n",
              "       [0.62234477],\n",
              "       [0.63378268],\n",
              "       [0.62622549],\n",
              "       [0.62214052],\n",
              "       [0.62418301]])"
            ]
          },
          "metadata": {},
          "execution_count": 17
        }
      ]
    },
    {
      "cell_type": "code",
      "metadata": {
        "id": "i72rARKD9H0t"
      },
      "source": [
        "time_step = 100\n",
        "x_train,y_train = [],[]\n",
        "for i in range(len(train_data)-time_step-1):\n",
        "    a = train_data[i:(i+time_step),0]\n",
        "    x_train.append(a)\n",
        "    y_train.append(train_data[i+ time_step,0])\n",
        "x_train,y_train = np.array(x_train),np.array(y_train)"
      ],
      "execution_count": 18,
      "outputs": []
    },
    {
      "cell_type": "code",
      "metadata": {
        "id": "2LpfZhj-9YcJ"
      },
      "source": [
        "x_test,y_test = [],[]\n",
        "for i in range(len(test_data)-time_step-1):\n",
        "    b = test_data[i:(i+time_step),0]\n",
        "    x_test.append(b)\n",
        "    y_test.append(test_data[i+time_step,0])\n",
        "x_test,y_test = np.array(x_test),np.array(y_test)"
      ],
      "execution_count": 19,
      "outputs": []
    },
    {
      "cell_type": "code",
      "metadata": {
        "colab": {
          "base_uri": "https://localhost:8080/"
        },
        "id": "teodGAjl9amu",
        "outputId": "4e34bff3-d980-4ae4-bfc3-e38d38f3b989"
      },
      "source": [
        "print(\"X_train shape :\", x_train.shape)\n",
        "print(\"Y_train shape :\", y_train.shape)\n",
        "print(\"X_test shape  :\", x_test.shape)\n",
        "print(\"Y_test shape  :\", y_test.shape)"
      ],
      "execution_count": 20,
      "outputs": [
        {
          "output_type": "stream",
          "name": "stdout",
          "text": [
            "X_train shape : (1527, 100)\n",
            "Y_train shape : (1527,)\n",
            "X_test shape  : (306, 100)\n",
            "Y_test shape  : (306,)\n"
          ]
        }
      ]
    },
    {
      "cell_type": "code",
      "metadata": {
        "id": "fNbZnXOy9eY1"
      },
      "source": [
        "#It is required to reshape into [samples, timestep, features] for LSTM\n",
        "x_train = x_train.reshape(x_train.shape[0],x_train.shape[1],1)\n",
        "x_test  = x_test.reshape(x_test.shape[0],x_test.shape[1],1)"
      ],
      "execution_count": 21,
      "outputs": []
    },
    {
      "cell_type": "code",
      "metadata": {
        "colab": {
          "base_uri": "https://localhost:8080/"
        },
        "id": "H1gtgW909hdX",
        "outputId": "c6174caf-2275-46af-8476-d6e5736f452f"
      },
      "source": [
        "print(\"X_train shape :\", x_train.shape)\n",
        "print(\"Y_train shape :\", y_train.shape)\n",
        "print(\"X_test shape  :\", x_test.shape)\n",
        "print(\"Y_test shape  :\", y_test.shape)"
      ],
      "execution_count": 22,
      "outputs": [
        {
          "output_type": "stream",
          "name": "stdout",
          "text": [
            "X_train shape : (1527, 100, 1)\n",
            "Y_train shape : (1527,)\n",
            "X_test shape  : (306, 100, 1)\n",
            "Y_test shape  : (306,)\n"
          ]
        }
      ]
    },
    {
      "cell_type": "code",
      "metadata": {
        "id": "w9m-5hxL9j3I"
      },
      "source": [
        "#building the model\n",
        "#importing the required libraries for neural network\n",
        "from tensorflow.keras.models import Sequential\n",
        "from tensorflow.keras.layers import LSTM, Dense,Dropout"
      ],
      "execution_count": 23,
      "outputs": []
    },
    {
      "cell_type": "markdown",
      "metadata": {
        "id": "dwlhfIp6URu2"
      },
      "source": [
        "## **Model Building and Fitting the data**"
      ]
    },
    {
      "cell_type": "code",
      "metadata": {
        "id": "uocYkfmI9nXD"
      },
      "source": [
        "#initializing the neural network \n",
        "model = Sequential()\n",
        "\n",
        "#Adding the 1st layer of stacked lstm model and some dfropout regularization\n",
        "model.add(LSTM(units=50, return_sequences=True,input_shape=(x_train.shape[1],x_train.shape[2])))\n",
        "model.add(Dropout(0.2))"
      ],
      "execution_count": 24,
      "outputs": []
    },
    {
      "cell_type": "code",
      "metadata": {
        "id": "X7tjHaov9rDA"
      },
      "source": [
        "#adding the 2nd layer of stacked lstm model and some dropout regularization\n",
        "model.add(LSTM(units=50, return_sequences=True))\n",
        "model.add(Dropout(0.2))"
      ],
      "execution_count": 25,
      "outputs": []
    },
    {
      "cell_type": "code",
      "metadata": {
        "id": "RddbMAab-tE5"
      },
      "source": [
        "#adding the 3rd layer of stacked lstm model and some dropout regularization\n",
        "model.add(LSTM(units=50, return_sequences=True))\n",
        "model.add(Dropout(0.2))"
      ],
      "execution_count": 26,
      "outputs": []
    },
    {
      "cell_type": "code",
      "metadata": {
        "id": "L-rEs9Xn-7eZ"
      },
      "source": [
        "#adding the 4th layer of stacked lstm model and some dropout regularization\n",
        "model.add(LSTM(units=50))\n",
        "model.add(Dropout(0.2))"
      ],
      "execution_count": 27,
      "outputs": []
    },
    {
      "cell_type": "code",
      "metadata": {
        "id": "FPcUzM73_TEi"
      },
      "source": [
        "#Adding the fully connected dense layer(output layer)\n",
        "model.add(Dense(units=1))\n",
        "\n",
        "#compiling\n",
        "model.compile(optimizer='adam', loss='mean_squared_error')"
      ],
      "execution_count": 28,
      "outputs": []
    },
    {
      "cell_type": "code",
      "metadata": {
        "colab": {
          "base_uri": "https://localhost:8080/"
        },
        "id": "9Jm62Z-PAU5R",
        "outputId": "ac44e699-1210-4d4f-a3e0-9b13093564fd"
      },
      "source": [
        "model.summary()"
      ],
      "execution_count": 29,
      "outputs": [
        {
          "output_type": "stream",
          "name": "stdout",
          "text": [
            "Model: \"sequential\"\n",
            "_________________________________________________________________\n",
            "Layer (type)                 Output Shape              Param #   \n",
            "=================================================================\n",
            "lstm (LSTM)                  (None, 100, 50)           10400     \n",
            "_________________________________________________________________\n",
            "dropout (Dropout)            (None, 100, 50)           0         \n",
            "_________________________________________________________________\n",
            "lstm_1 (LSTM)                (None, 100, 50)           20200     \n",
            "_________________________________________________________________\n",
            "dropout_1 (Dropout)          (None, 100, 50)           0         \n",
            "_________________________________________________________________\n",
            "lstm_2 (LSTM)                (None, 100, 50)           20200     \n",
            "_________________________________________________________________\n",
            "dropout_2 (Dropout)          (None, 100, 50)           0         \n",
            "_________________________________________________________________\n",
            "lstm_3 (LSTM)                (None, 50)                20200     \n",
            "_________________________________________________________________\n",
            "dropout_3 (Dropout)          (None, 50)                0         \n",
            "_________________________________________________________________\n",
            "dense (Dense)                (None, 1)                 51        \n",
            "=================================================================\n",
            "Total params: 71,051\n",
            "Trainable params: 71,051\n",
            "Non-trainable params: 0\n",
            "_________________________________________________________________\n"
          ]
        }
      ]
    },
    {
      "cell_type": "code",
      "metadata": {
        "colab": {
          "base_uri": "https://localhost:8080/"
        },
        "id": "jXI8w3jAAcXs",
        "outputId": "a614cb5a-429a-4d9c-ee18-a6b39e1914ca"
      },
      "source": [
        "model.fit(x=x_train,  y=y_train, batch_size=32, epochs=100,   validation_data=(x_test,y_test), verbose=1)"
      ],
      "execution_count": 30,
      "outputs": [
        {
          "output_type": "stream",
          "name": "stdout",
          "text": [
            "Epoch 1/100\n",
            "48/48 [==============================] - 18s 230ms/step - loss: 0.0059 - val_loss: 0.0058\n",
            "Epoch 2/100\n",
            "48/48 [==============================] - 9s 196ms/step - loss: 0.0016 - val_loss: 0.0078\n",
            "Epoch 3/100\n",
            "48/48 [==============================] - 9s 198ms/step - loss: 0.0015 - val_loss: 0.0121\n",
            "Epoch 4/100\n",
            "48/48 [==============================] - 9s 198ms/step - loss: 0.0013 - val_loss: 0.0160\n",
            "Epoch 5/100\n",
            "48/48 [==============================] - 10s 200ms/step - loss: 0.0013 - val_loss: 0.0140\n",
            "Epoch 6/100\n",
            "48/48 [==============================] - 10s 201ms/step - loss: 0.0012 - val_loss: 0.0158\n",
            "Epoch 7/100\n",
            "48/48 [==============================] - 10s 198ms/step - loss: 0.0012 - val_loss: 0.0164\n",
            "Epoch 8/100\n",
            "48/48 [==============================] - 10s 199ms/step - loss: 0.0012 - val_loss: 0.0323\n",
            "Epoch 9/100\n",
            "48/48 [==============================] - 10s 198ms/step - loss: 0.0010 - val_loss: 0.0160\n",
            "Epoch 10/100\n",
            "48/48 [==============================] - 9s 197ms/step - loss: 0.0010 - val_loss: 0.0216\n",
            "Epoch 11/100\n",
            "48/48 [==============================] - 9s 198ms/step - loss: 9.4427e-04 - val_loss: 0.0211\n",
            "Epoch 12/100\n",
            "48/48 [==============================] - 9s 198ms/step - loss: 9.1430e-04 - val_loss: 0.0124\n",
            "Epoch 13/100\n",
            "48/48 [==============================] - 10s 198ms/step - loss: 9.0879e-04 - val_loss: 0.0227\n",
            "Epoch 14/100\n",
            "48/48 [==============================] - 9s 198ms/step - loss: 8.8268e-04 - val_loss: 0.0167\n",
            "Epoch 15/100\n",
            "48/48 [==============================] - 9s 198ms/step - loss: 8.2740e-04 - val_loss: 0.0193\n",
            "Epoch 16/100\n",
            "48/48 [==============================] - 9s 197ms/step - loss: 8.2384e-04 - val_loss: 0.0096\n",
            "Epoch 17/100\n",
            "48/48 [==============================] - 9s 198ms/step - loss: 7.4932e-04 - val_loss: 0.0185\n",
            "Epoch 18/100\n",
            "48/48 [==============================] - 9s 197ms/step - loss: 7.3594e-04 - val_loss: 0.0113\n",
            "Epoch 19/100\n",
            "48/48 [==============================] - 9s 198ms/step - loss: 7.3683e-04 - val_loss: 0.0100\n",
            "Epoch 20/100\n",
            "48/48 [==============================] - 10s 199ms/step - loss: 7.0903e-04 - val_loss: 0.0052\n",
            "Epoch 21/100\n",
            "48/48 [==============================] - 9s 196ms/step - loss: 6.9087e-04 - val_loss: 0.0076\n",
            "Epoch 22/100\n",
            "48/48 [==============================] - 10s 200ms/step - loss: 6.7437e-04 - val_loss: 0.0059\n",
            "Epoch 23/100\n",
            "48/48 [==============================] - 10s 199ms/step - loss: 6.6353e-04 - val_loss: 0.0087\n",
            "Epoch 24/100\n",
            "48/48 [==============================] - 9s 196ms/step - loss: 6.0487e-04 - val_loss: 0.0132\n",
            "Epoch 25/100\n",
            "48/48 [==============================] - 9s 198ms/step - loss: 5.9525e-04 - val_loss: 0.0126\n",
            "Epoch 26/100\n",
            "48/48 [==============================] - 10s 200ms/step - loss: 5.8453e-04 - val_loss: 0.0077\n",
            "Epoch 27/100\n",
            "48/48 [==============================] - 10s 199ms/step - loss: 6.2121e-04 - val_loss: 0.0068\n",
            "Epoch 28/100\n",
            "48/48 [==============================] - 9s 198ms/step - loss: 5.5493e-04 - val_loss: 0.0047\n",
            "Epoch 29/100\n",
            "48/48 [==============================] - 10s 199ms/step - loss: 5.3228e-04 - val_loss: 0.0068\n",
            "Epoch 30/100\n",
            "48/48 [==============================] - 10s 200ms/step - loss: 4.7867e-04 - val_loss: 0.0076\n",
            "Epoch 31/100\n",
            "48/48 [==============================] - 10s 200ms/step - loss: 4.8763e-04 - val_loss: 0.0057\n",
            "Epoch 32/100\n",
            "48/48 [==============================] - 10s 199ms/step - loss: 4.9744e-04 - val_loss: 0.0063\n",
            "Epoch 33/100\n",
            "48/48 [==============================] - 10s 199ms/step - loss: 4.8142e-04 - val_loss: 0.0040\n",
            "Epoch 34/100\n",
            "48/48 [==============================] - 10s 199ms/step - loss: 4.5761e-04 - val_loss: 0.0086\n",
            "Epoch 35/100\n",
            "48/48 [==============================] - 9s 196ms/step - loss: 4.4055e-04 - val_loss: 0.0055\n",
            "Epoch 36/100\n",
            "48/48 [==============================] - 9s 197ms/step - loss: 4.2045e-04 - val_loss: 0.0036\n",
            "Epoch 37/100\n",
            "48/48 [==============================] - 10s 199ms/step - loss: 4.2418e-04 - val_loss: 0.0039\n",
            "Epoch 38/100\n",
            "48/48 [==============================] - 10s 201ms/step - loss: 4.0003e-04 - val_loss: 0.0055\n",
            "Epoch 39/100\n",
            "48/48 [==============================] - 10s 198ms/step - loss: 3.9316e-04 - val_loss: 0.0040\n",
            "Epoch 40/100\n",
            "48/48 [==============================] - 9s 196ms/step - loss: 4.2613e-04 - val_loss: 0.0029\n",
            "Epoch 41/100\n",
            "48/48 [==============================] - 9s 196ms/step - loss: 3.8908e-04 - val_loss: 0.0055\n",
            "Epoch 42/100\n",
            "48/48 [==============================] - 10s 199ms/step - loss: 4.0227e-04 - val_loss: 0.0074\n",
            "Epoch 43/100\n",
            "48/48 [==============================] - 9s 194ms/step - loss: 3.8736e-04 - val_loss: 0.0054\n",
            "Epoch 44/100\n",
            "48/48 [==============================] - 9s 197ms/step - loss: 3.8966e-04 - val_loss: 0.0070\n",
            "Epoch 45/100\n",
            "48/48 [==============================] - 10s 200ms/step - loss: 3.6334e-04 - val_loss: 0.0041\n",
            "Epoch 46/100\n",
            "48/48 [==============================] - 9s 196ms/step - loss: 3.5878e-04 - val_loss: 0.0038\n",
            "Epoch 47/100\n",
            "48/48 [==============================] - 9s 195ms/step - loss: 3.6899e-04 - val_loss: 0.0061\n",
            "Epoch 48/100\n",
            "48/48 [==============================] - 9s 195ms/step - loss: 3.6593e-04 - val_loss: 7.2370e-04\n",
            "Epoch 49/100\n",
            "48/48 [==============================] - 10s 198ms/step - loss: 3.3563e-04 - val_loss: 0.0021\n",
            "Epoch 50/100\n",
            "48/48 [==============================] - 9s 197ms/step - loss: 3.3087e-04 - val_loss: 0.0014\n",
            "Epoch 51/100\n",
            "48/48 [==============================] - 9s 198ms/step - loss: 3.7464e-04 - val_loss: 0.0024\n",
            "Epoch 52/100\n",
            "48/48 [==============================] - 9s 197ms/step - loss: 3.0350e-04 - val_loss: 0.0042\n",
            "Epoch 53/100\n",
            "48/48 [==============================] - 9s 197ms/step - loss: 3.2659e-04 - val_loss: 0.0018\n",
            "Epoch 54/100\n",
            "48/48 [==============================] - 9s 197ms/step - loss: 2.9360e-04 - val_loss: 0.0044\n",
            "Epoch 55/100\n",
            "48/48 [==============================] - 9s 198ms/step - loss: 3.3776e-04 - val_loss: 0.0016\n",
            "Epoch 56/100\n",
            "48/48 [==============================] - 9s 198ms/step - loss: 3.1527e-04 - val_loss: 0.0043\n",
            "Epoch 57/100\n",
            "48/48 [==============================] - 10s 199ms/step - loss: 3.1553e-04 - val_loss: 0.0024\n",
            "Epoch 58/100\n",
            "48/48 [==============================] - 9s 196ms/step - loss: 2.9783e-04 - val_loss: 0.0044\n",
            "Epoch 59/100\n",
            "48/48 [==============================] - 10s 199ms/step - loss: 3.1669e-04 - val_loss: 9.4462e-04\n",
            "Epoch 60/100\n",
            "48/48 [==============================] - 10s 198ms/step - loss: 3.0308e-04 - val_loss: 0.0017\n",
            "Epoch 61/100\n",
            "48/48 [==============================] - 9s 198ms/step - loss: 2.7702e-04 - val_loss: 0.0017\n",
            "Epoch 62/100\n",
            "48/48 [==============================] - 9s 197ms/step - loss: 2.7872e-04 - val_loss: 0.0027\n",
            "Epoch 63/100\n",
            "48/48 [==============================] - 9s 197ms/step - loss: 2.8958e-04 - val_loss: 0.0047\n",
            "Epoch 64/100\n",
            "48/48 [==============================] - 10s 199ms/step - loss: 2.9155e-04 - val_loss: 7.3778e-04\n",
            "Epoch 65/100\n",
            "48/48 [==============================] - 9s 197ms/step - loss: 2.6624e-04 - val_loss: 0.0016\n",
            "Epoch 66/100\n",
            "48/48 [==============================] - 9s 197ms/step - loss: 2.9228e-04 - val_loss: 0.0013\n",
            "Epoch 67/100\n",
            "48/48 [==============================] - 9s 198ms/step - loss: 2.5774e-04 - val_loss: 0.0039\n",
            "Epoch 68/100\n",
            "48/48 [==============================] - 9s 198ms/step - loss: 2.9008e-04 - val_loss: 0.0027\n",
            "Epoch 69/100\n",
            "48/48 [==============================] - 10s 199ms/step - loss: 2.8215e-04 - val_loss: 0.0013\n",
            "Epoch 70/100\n",
            "48/48 [==============================] - 10s 200ms/step - loss: 2.6038e-04 - val_loss: 9.7011e-04\n",
            "Epoch 71/100\n",
            "48/48 [==============================] - 10s 206ms/step - loss: 3.0222e-04 - val_loss: 7.5028e-04\n",
            "Epoch 72/100\n",
            "48/48 [==============================] - 10s 199ms/step - loss: 2.7015e-04 - val_loss: 9.7736e-04\n",
            "Epoch 73/100\n",
            "48/48 [==============================] - 10s 199ms/step - loss: 2.6250e-04 - val_loss: 0.0012\n",
            "Epoch 74/100\n",
            "48/48 [==============================] - 10s 201ms/step - loss: 2.4488e-04 - val_loss: 9.6712e-04\n",
            "Epoch 75/100\n",
            "48/48 [==============================] - 10s 201ms/step - loss: 2.4006e-04 - val_loss: 0.0013\n",
            "Epoch 76/100\n",
            "48/48 [==============================] - 10s 200ms/step - loss: 2.3692e-04 - val_loss: 0.0023\n",
            "Epoch 77/100\n",
            "48/48 [==============================] - 10s 199ms/step - loss: 2.7180e-04 - val_loss: 0.0016\n",
            "Epoch 78/100\n",
            "48/48 [==============================] - 10s 201ms/step - loss: 2.6624e-04 - val_loss: 0.0016\n",
            "Epoch 79/100\n",
            "48/48 [==============================] - 10s 198ms/step - loss: 2.5858e-04 - val_loss: 8.4040e-04\n",
            "Epoch 80/100\n",
            "48/48 [==============================] - 10s 199ms/step - loss: 2.6152e-04 - val_loss: 0.0026\n",
            "Epoch 81/100\n",
            "48/48 [==============================] - 10s 199ms/step - loss: 2.5197e-04 - val_loss: 0.0020\n",
            "Epoch 82/100\n",
            "48/48 [==============================] - 10s 202ms/step - loss: 2.7797e-04 - val_loss: 0.0042\n",
            "Epoch 83/100\n",
            "48/48 [==============================] - 10s 199ms/step - loss: 2.5882e-04 - val_loss: 0.0027\n",
            "Epoch 84/100\n",
            "48/48 [==============================] - 10s 200ms/step - loss: 2.5670e-04 - val_loss: 0.0021\n",
            "Epoch 85/100\n",
            "48/48 [==============================] - 10s 201ms/step - loss: 2.2800e-04 - val_loss: 0.0021\n",
            "Epoch 86/100\n",
            "48/48 [==============================] - 10s 200ms/step - loss: 2.5489e-04 - val_loss: 0.0019\n",
            "Epoch 87/100\n",
            "48/48 [==============================] - 10s 201ms/step - loss: 2.4795e-04 - val_loss: 0.0010\n",
            "Epoch 88/100\n",
            "48/48 [==============================] - 10s 200ms/step - loss: 2.4854e-04 - val_loss: 0.0018\n",
            "Epoch 89/100\n",
            "48/48 [==============================] - 10s 201ms/step - loss: 2.4877e-04 - val_loss: 0.0029\n",
            "Epoch 90/100\n",
            "48/48 [==============================] - 10s 199ms/step - loss: 2.7632e-04 - val_loss: 0.0011\n",
            "Epoch 91/100\n",
            "48/48 [==============================] - 10s 200ms/step - loss: 2.6748e-04 - val_loss: 0.0031\n",
            "Epoch 92/100\n",
            "48/48 [==============================] - 10s 200ms/step - loss: 2.7022e-04 - val_loss: 0.0014\n",
            "Epoch 93/100\n",
            "48/48 [==============================] - 10s 200ms/step - loss: 2.4498e-04 - val_loss: 8.9907e-04\n",
            "Epoch 94/100\n",
            "48/48 [==============================] - 10s 200ms/step - loss: 2.7713e-04 - val_loss: 7.4968e-04\n",
            "Epoch 95/100\n",
            "48/48 [==============================] - 10s 203ms/step - loss: 2.4692e-04 - val_loss: 0.0037\n",
            "Epoch 96/100\n",
            "48/48 [==============================] - 10s 201ms/step - loss: 2.4637e-04 - val_loss: 0.0011\n",
            "Epoch 97/100\n",
            "48/48 [==============================] - 10s 200ms/step - loss: 2.7750e-04 - val_loss: 0.0018\n",
            "Epoch 98/100\n",
            "48/48 [==============================] - 10s 198ms/step - loss: 2.6971e-04 - val_loss: 0.0017\n",
            "Epoch 99/100\n",
            "48/48 [==============================] - 10s 199ms/step - loss: 2.7656e-04 - val_loss: 0.0053\n",
            "Epoch 100/100\n",
            "48/48 [==============================] - 9s 198ms/step - loss: 2.6503e-04 - val_loss: 6.5580e-04\n"
          ]
        },
        {
          "output_type": "execute_result",
          "data": {
            "text/plain": [
              "<keras.callbacks.History at 0x7f3fedf7a190>"
            ]
          },
          "metadata": {},
          "execution_count": 30
        }
      ]
    },
    {
      "cell_type": "markdown",
      "metadata": {
        "id": "wYJsvHFpUuD9"
      },
      "source": [
        "## **Prediction**"
      ]
    },
    {
      "cell_type": "code",
      "metadata": {
        "id": "Pj-_RLwGAz3f"
      },
      "source": [
        "train_pred = model.predict(x_train)\n",
        "test_pred = model.predict(x_test)"
      ],
      "execution_count": 31,
      "outputs": []
    },
    {
      "cell_type": "code",
      "metadata": {
        "id": "uc5DsJpFpT85"
      },
      "source": [
        "#Transforming the data to its original form\n",
        "train_pred = scale.inverse_transform(train_pred)\n",
        "test_pred = scale.inverse_transform(test_pred)"
      ],
      "execution_count": 32,
      "outputs": []
    },
    {
      "cell_type": "markdown",
      "metadata": {
        "id": "rA1BLlP-VAsM"
      },
      "source": [
        "## **Evaluation**"
      ]
    },
    {
      "cell_type": "code",
      "metadata": {
        "colab": {
          "base_uri": "https://localhost:8080/"
        },
        "id": "xD9eCdxKpU1T",
        "outputId": "12b0f5da-fc72-4d65-858d-e51cfe0dec20"
      },
      "source": [
        "from sklearn.metrics import mean_squared_error\n",
        "from math import sqrt\n",
        "#root mean sqaured error \n",
        "sqrt(mean_squared_error(y_train,train_pred))"
      ],
      "execution_count": 33,
      "outputs": [
        {
          "output_type": "execute_result",
          "data": {
            "text/plain": [
              "135.40610213965343"
            ]
          },
          "metadata": {},
          "execution_count": 33
        }
      ]
    },
    {
      "cell_type": "code",
      "metadata": {
        "colab": {
          "base_uri": "https://localhost:8080/"
        },
        "id": "huJI1dmYpVHV",
        "outputId": "06e4c9f8-7948-4cde-b4e6-59f89fe0adbb"
      },
      "source": [
        "sqrt(mean_squared_error(y_test, test_pred))"
      ],
      "execution_count": 34,
      "outputs": [
        {
          "output_type": "execute_result",
          "data": {
            "text/plain": [
              "248.49313180528893"
            ]
          },
          "metadata": {},
          "execution_count": 34
        }
      ]
    },
    {
      "cell_type": "code",
      "metadata": {
        "id": "vuRZ8he2pVUI"
      },
      "source": [
        "#shift the train predictions for plotting\n",
        "lookback = 100\n",
        "train_pred_plot = np.empty_like(df1)\n",
        "train_pred_plot[:,:] = np.nan\n",
        "train_pred_plot[lookback: len(train_pred)+lookback, :] = train_pred\n",
        "\n",
        "#shift the test predictions for plotting\n",
        "test_pred_plot = np.empty_like(df1)\n",
        "test_pred_plot[:,:] = np.nan\n",
        "test_pred_plot[len(train_pred)+(lookback*2)+1: len(df1)-1, : ] = test_pred"
      ],
      "execution_count": 35,
      "outputs": []
    },
    {
      "cell_type": "markdown",
      "metadata": {
        "id": "vf58JU10VfqH"
      },
      "source": [
        "## **plotting the baseline and predictions**"
      ]
    },
    {
      "cell_type": "code",
      "metadata": {
        "colab": {
          "base_uri": "https://localhost:8080/",
          "height": 265
        },
        "id": "oikp44PRpVfA",
        "outputId": "593e4e38-0c85-49dc-9c0a-98af7d94022d"
      },
      "source": [
        "#finally plotting the baseline and predictions\n",
        "plt.plot(scale.inverse_transform(df1),label='baseline')\n",
        "plt.plot(train_pred_plot,label='train_predictions')\n",
        "plt.plot(test_pred_plot,label= 'test_predictions')\n",
        "plt.legend()\n",
        "plt.show()"
      ],
      "execution_count": 36,
      "outputs": [
        {
          "output_type": "display_data",
          "data": {
            "image/png": "[encoded data removed]",
            "text/plain": [
              "<Figure size 432x288 with 1 Axes>"
            ]
          },
          "metadata": {
            "needs_background": "light"
          }
        }
      ]
    },
    {
      "cell_type": "code",
      "metadata": {
        "colab": {
          "base_uri": "https://localhost:8080/"
        },
        "id": "7xezO5afpVqe",
        "outputId": "90457f6d-fdad-4b0b-fe91-c95ee91b4b18"
      },
      "source": [
        "len(test_data)"
      ],
      "execution_count": 37,
      "outputs": [
        {
          "output_type": "execute_result",
          "data": {
            "text/plain": [
              "407"
            ]
          },
          "metadata": {},
          "execution_count": 37
        }
      ]
    },
    {
      "cell_type": "code",
      "metadata": {
        "colab": {
          "base_uri": "https://localhost:8080/"
        },
        "id": "W0FZivs5pV3I",
        "outputId": "3417780c-7e45-4a60-f888-9f798087da2c"
      },
      "source": [
        "x_input = test_data[307:].reshape(1,-1)\n",
        "x_input.shape"
      ],
      "execution_count": 38,
      "outputs": [
        {
          "output_type": "execute_result",
          "data": {
            "text/plain": [
              "(1, 100)"
            ]
          },
          "metadata": {},
          "execution_count": 38
        }
      ]
    },
    {
      "cell_type": "code",
      "metadata": {
        "id": "68FHka9EpWCy"
      },
      "source": [
        "temp_input=list(x_input)\n",
        "temp_input=temp_input[0].tolist()"
      ],
      "execution_count": 39,
      "outputs": []
    },
    {
      "cell_type": "code",
      "metadata": {
        "colab": {
          "base_uri": "https://localhost:8080/"
        },
        "id": "1ulrgvtUWoic",
        "outputId": "44dab2e1-45b7-458c-9ae2-a41c98b7d1b8"
      },
      "source": [
        "temp_input"
      ],
      "execution_count": 40,
      "outputs": [
        {
          "output_type": "execute_result",
          "data": {
            "text/plain": [
              "[0.8527369281045751,\n",
              " 0.8621323529411764,\n",
              " 0.8345588235294117,\n",
              " 0.84375,\n",
              " 0.7146650326797386,\n",
              " 0.6605392156862745,\n",
              " 0.6542075163398693,\n",
              " 0.6803513071895424,\n",
              " 0.6689133986928104,\n",
              " 0.6642156862745099,\n",
              " 0.678921568627451,\n",
              " 0.6913807189542482,\n",
              " 0.7089460784313726,\n",
              " 0.7226307189542485,\n",
              " 0.7340686274509802,\n",
              " 0.7212009803921569,\n",
              " 0.749795751633987,\n",
              " 0.7689950980392157,\n",
              " 0.7446895424836601,\n",
              " 0.7120098039215685,\n",
              " 0.7467320261437909,\n",
              " 0.7549019607843137,\n",
              " 0.7604166666666667,\n",
              " 0.7598039215686274,\n",
              " 0.7465277777777777,\n",
              " 0.7624591503267975,\n",
              " 0.7706290849673203,\n",
              " 0.8041258169934642,\n",
              " 0.7810457516339868,\n",
              " 0.7941176470588236,\n",
              " 0.7602124183006536,\n",
              " 0.7348856209150327,\n",
              " 0.7240604575163399,\n",
              " 0.7399918300653596,\n",
              " 0.749795751633987,\n",
              " 0.7614379084967322,\n",
              " 0.7542892156862746,\n",
              " 0.7475490196078431,\n",
              " 0.769607843137255,\n",
              " 0.7495915032679739,\n",
              " 0.8171977124183007,\n",
              " 0.8020833333333335,\n",
              " 0.7773692810457518,\n",
              " 0.7571486928104576,\n",
              " 0.7937091503267975,\n",
              " 0.7916666666666667,\n",
              " 0.7714460784313726,\n",
              " 0.7526552287581698,\n",
              " 0.7269199346405228,\n",
              " 0.6629901960784313,\n",
              " 0.6819852941176472,\n",
              " 0.6441993464052288,\n",
              " 0.6215277777777778,\n",
              " 0.6439950980392156,\n",
              " 0.6631944444444445,\n",
              " 0.6754493464052289,\n",
              " 0.6370506535947713,\n",
              " 0.6460375816993464,\n",
              " 0.6589052287581699,\n",
              " 0.6587009803921569,\n",
              " 0.6779003267973858,\n",
              " 0.6319444444444445,\n",
              " 0.6311274509803921,\n",
              " 0.627859477124183,\n",
              " 0.647671568627451,\n",
              " 0.6399101307189542,\n",
              " 0.6348039215686274,\n",
              " 0.6386846405228759,\n",
              " 0.6233660130718954,\n",
              " 0.627450980392157,\n",
              " 0.6397058823529412,\n",
              " 0.6470588235294118,\n",
              " 0.661968954248366,\n",
              " 0.6707516339869282,\n",
              " 0.6519607843137255,\n",
              " 0.6311274509803921,\n",
              " 0.6129493464052288,\n",
              " 0.6376633986928105,\n",
              " 0.6225490196078431,\n",
              " 0.627450980392157,\n",
              " 0.6333741830065359,\n",
              " 0.6264297385620916,\n",
              " 0.6362336601307189,\n",
              " 0.5831290849673202,\n",
              " 0.5778186274509804,\n",
              " 0.5723039215686275,\n",
              " 0.5800653594771241,\n",
              " 0.5761846405228758,\n",
              " 0.5516748366013072,\n",
              " 0.5788398692810458,\n",
              " 0.625,\n",
              " 0.6358251633986928,\n",
              " 0.6294934640522877,\n",
              " 0.6288807189542484,\n",
              " 0.6276552287581699,\n",
              " 0.6223447712418301,\n",
              " 0.6337826797385621,\n",
              " 0.6262254901960784,\n",
              " 0.622140522875817,\n",
              " 0.6241830065359477]"
            ]
          },
          "metadata": {},
          "execution_count": 40
        }
      ]
    },
    {
      "cell_type": "markdown",
      "metadata": {
        "id": "wy-pnSkPVVfn"
      },
      "source": [
        "## **Prediction for next 20 days**"
      ]
    },
    {
      "cell_type": "code",
      "metadata": {
        "colab": {
          "base_uri": "https://localhost:8080/"
        },
        "id": "YZ7DAAZFGwzc",
        "outputId": "8f5428b6-c63c-4c7a-f1e8-929a9c134662"
      },
      "source": [
        "#forecasting the prediction \n",
        "output=[]\n",
        "n_steps=100\n",
        "i=0\n",
        "while(i<21):\n",
        "    \n",
        "    if(len(temp_input)>100):\n",
        "        #print(temp_input)\n",
        "        x_input=np.array(temp_input[1:])\n",
        "        print(\"{} day input {}\".format(i,x_input))\n",
        "        x_input=x_input.reshape(1,-1)\n",
        "        x_input = x_input.reshape((1, n_steps, 1))\n",
        "        #print(x_input)\n",
        "        yhat = model.predict(x_input, verbose=0)\n",
        "        print(\"{} day output {}\".format(i,yhat))\n",
        "        temp_input.extend(yhat[0].tolist())\n",
        "        temp_input=temp_input[1:]\n",
        "        #print(temp_input)\n",
        "        output.extend(yhat.tolist())\n",
        "        i=i+1\n",
        "    else:\n",
        "        x_input = x_input.reshape((1, n_steps,1))\n",
        "        yhat = model.predict(x_input, verbose=0)\n",
        "        print(yhat[0])\n",
        "        temp_input.extend(yhat[0].tolist())\n",
        "        print(len(temp_input))\n",
        "        output.extend(yhat.tolist())\n",
        "        i=i+1\n",
        "    \n",
        "\n",
        "print(output)"
      ],
      "execution_count": 41,
      "outputs": [
        {
          "output_type": "stream",
          "name": "stdout",
          "text": [
            "[0.62366694]\n",
            "101\n",
            "1 day input [0.86213235 0.83455882 0.84375    0.71466503 0.66053922 0.65420752\n",
            " 0.68035131 0.6689134  0.66421569 0.67892157 0.69138072 0.70894608\n",
            " 0.72263072 0.73406863 0.72120098 0.74979575 0.7689951  0.74468954\n",
            " 0.7120098  0.74673203 0.75490196 0.76041667 0.75980392 0.74652778\n",
            " 0.76245915 0.77062908 0.80412582 0.78104575 0.79411765 0.76021242\n",
            " 0.73488562 0.72406046 0.73999183 0.74979575 0.76143791 0.75428922\n",
            " 0.74754902 0.76960784 0.7495915  0.81719771 0.80208333 0.77736928\n",
            " 0.75714869 0.79370915 0.79166667 0.77144608 0.75265523 0.72691993\n",
            " 0.6629902  0.68198529 0.64419935 0.62152778 0.6439951  0.66319444\n",
            " 0.67544935 0.63705065 0.64603758 0.65890523 0.65870098 0.67790033\n",
            " 0.63194444 0.63112745 0.62785948 0.64767157 0.63991013 0.63480392\n",
            " 0.63868464 0.62336601 0.62745098 0.63970588 0.64705882 0.66196895\n",
            " 0.67075163 0.65196078 0.63112745 0.61294935 0.6376634  0.62254902\n",
            " 0.62745098 0.63337418 0.62642974 0.63623366 0.58312908 0.57781863\n",
            " 0.57230392 0.58006536 0.57618464 0.55167484 0.57883987 0.625\n",
            " 0.63582516 0.62949346 0.62888072 0.62765523 0.62234477 0.63378268\n",
            " 0.62622549 0.62214052 0.62418301 0.62366694]\n",
            "1 day output [[0.62303656]]\n",
            "2 day input [0.83455882 0.84375    0.71466503 0.66053922 0.65420752 0.68035131\n",
            " 0.6689134  0.66421569 0.67892157 0.69138072 0.70894608 0.72263072\n",
            " 0.73406863 0.72120098 0.74979575 0.7689951  0.74468954 0.7120098\n",
            " 0.74673203 0.75490196 0.76041667 0.75980392 0.74652778 0.76245915\n",
            " 0.77062908 0.80412582 0.78104575 0.79411765 0.76021242 0.73488562\n",
            " 0.72406046 0.73999183 0.74979575 0.76143791 0.75428922 0.74754902\n",
            " 0.76960784 0.7495915  0.81719771 0.80208333 0.77736928 0.75714869\n",
            " 0.79370915 0.79166667 0.77144608 0.75265523 0.72691993 0.6629902\n",
            " 0.68198529 0.64419935 0.62152778 0.6439951  0.66319444 0.67544935\n",
            " 0.63705065 0.64603758 0.65890523 0.65870098 0.67790033 0.63194444\n",
            " 0.63112745 0.62785948 0.64767157 0.63991013 0.63480392 0.63868464\n",
            " 0.62336601 0.62745098 0.63970588 0.64705882 0.66196895 0.67075163\n",
            " 0.65196078 0.63112745 0.61294935 0.6376634  0.62254902 0.62745098\n",
            " 0.63337418 0.62642974 0.63623366 0.58312908 0.57781863 0.57230392\n",
            " 0.58006536 0.57618464 0.55167484 0.57883987 0.625      0.63582516\n",
            " 0.62949346 0.62888072 0.62765523 0.62234477 0.63378268 0.62622549\n",
            " 0.62214052 0.62418301 0.62366694 0.62303656]\n",
            "2 day output [[0.6221465]]\n",
            "3 day input [0.84375    0.71466503 0.66053922 0.65420752 0.68035131 0.6689134\n",
            " 0.66421569 0.67892157 0.69138072 0.70894608 0.72263072 0.73406863\n",
            " 0.72120098 0.74979575 0.7689951  0.74468954 0.7120098  0.74673203\n",
            " 0.75490196 0.76041667 0.75980392 0.74652778 0.76245915 0.77062908\n",
            " 0.80412582 0.78104575 0.79411765 0.76021242 0.73488562 0.72406046\n",
            " 0.73999183 0.74979575 0.76143791 0.75428922 0.74754902 0.76960784\n",
            " 0.7495915  0.81719771 0.80208333 0.77736928 0.75714869 0.79370915\n",
            " 0.79166667 0.77144608 0.75265523 0.72691993 0.6629902  0.68198529\n",
            " 0.64419935 0.62152778 0.6439951  0.66319444 0.67544935 0.63705065\n",
            " 0.64603758 0.65890523 0.65870098 0.67790033 0.63194444 0.63112745\n",
            " 0.62785948 0.64767157 0.63991013 0.63480392 0.63868464 0.62336601\n",
            " 0.62745098 0.63970588 0.64705882 0.66196895 0.67075163 0.65196078\n",
            " 0.63112745 0.61294935 0.6376634  0.62254902 0.62745098 0.63337418\n",
            " 0.62642974 0.63623366 0.58312908 0.57781863 0.57230392 0.58006536\n",
            " 0.57618464 0.55167484 0.57883987 0.625      0.63582516 0.62949346\n",
            " 0.62888072 0.62765523 0.62234477 0.63378268 0.62622549 0.62214052\n",
            " 0.62418301 0.62366694 0.62303656 0.62214649]\n",
            "3 day output [[0.6210882]]\n",
            "4 day input [0.71466503 0.66053922 0.65420752 0.68035131 0.6689134  0.66421569\n",
            " 0.67892157 0.69138072 0.70894608 0.72263072 0.73406863 0.72120098\n",
            " 0.74979575 0.7689951  0.74468954 0.7120098  0.74673203 0.75490196\n",
            " 0.76041667 0.75980392 0.74652778 0.76245915 0.77062908 0.80412582\n",
            " 0.78104575 0.79411765 0.76021242 0.73488562 0.72406046 0.73999183\n",
            " 0.74979575 0.76143791 0.75428922 0.74754902 0.76960784 0.7495915\n",
            " 0.81719771 0.80208333 0.77736928 0.75714869 0.79370915 0.79166667\n",
            " 0.77144608 0.75265523 0.72691993 0.6629902  0.68198529 0.64419935\n",
            " 0.62152778 0.6439951  0.66319444 0.67544935 0.63705065 0.64603758\n",
            " 0.65890523 0.65870098 0.67790033 0.63194444 0.63112745 0.62785948\n",
            " 0.64767157 0.63991013 0.63480392 0.63868464 0.62336601 0.62745098\n",
            " 0.63970588 0.64705882 0.66196895 0.67075163 0.65196078 0.63112745\n",
            " 0.61294935 0.6376634  0.62254902 0.62745098 0.63337418 0.62642974\n",
            " 0.63623366 0.58312908 0.57781863 0.57230392 0.58006536 0.57618464\n",
            " 0.55167484 0.57883987 0.625      0.63582516 0.62949346 0.62888072\n",
            " 0.62765523 0.62234477 0.63378268 0.62622549 0.62214052 0.62418301\n",
            " 0.62366694 0.62303656 0.62214649 0.62108821]\n",
            "4 day output [[0.6200619]]\n",
            "5 day input [0.66053922 0.65420752 0.68035131 0.6689134  0.66421569 0.67892157\n",
            " 0.69138072 0.70894608 0.72263072 0.73406863 0.72120098 0.74979575\n",
            " 0.7689951  0.74468954 0.7120098  0.74673203 0.75490196 0.76041667\n",
            " 0.75980392 0.74652778 0.76245915 0.77062908 0.80412582 0.78104575\n",
            " 0.79411765 0.76021242 0.73488562 0.72406046 0.73999183 0.74979575\n",
            " 0.76143791 0.75428922 0.74754902 0.76960784 0.7495915  0.81719771\n",
            " 0.80208333 0.77736928 0.75714869 0.79370915 0.79166667 0.77144608\n",
            " 0.75265523 0.72691993 0.6629902  0.68198529 0.64419935 0.62152778\n",
            " 0.6439951  0.66319444 0.67544935 0.63705065 0.64603758 0.65890523\n",
            " 0.65870098 0.67790033 0.63194444 0.63112745 0.62785948 0.64767157\n",
            " 0.63991013 0.63480392 0.63868464 0.62336601 0.62745098 0.63970588\n",
            " 0.64705882 0.66196895 0.67075163 0.65196078 0.63112745 0.61294935\n",
            " 0.6376634  0.62254902 0.62745098 0.63337418 0.62642974 0.63623366\n",
            " 0.58312908 0.57781863 0.57230392 0.58006536 0.57618464 0.55167484\n",
            " 0.57883987 0.625      0.63582516 0.62949346 0.62888072 0.62765523\n",
            " 0.62234477 0.63378268 0.62622549 0.62214052 0.62418301 0.62366694\n",
            " 0.62303656 0.62214649 0.62108821 0.62006187]\n",
            "5 day output [[0.6191412]]\n",
            "6 day input [0.65420752 0.68035131 0.6689134  0.66421569 0.67892157 0.69138072\n",
            " 0.70894608 0.72263072 0.73406863 0.72120098 0.74979575 0.7689951\n",
            " 0.74468954 0.7120098  0.74673203 0.75490196 0.76041667 0.75980392\n",
            " 0.74652778 0.76245915 0.77062908 0.80412582 0.78104575 0.79411765\n",
            " 0.76021242 0.73488562 0.72406046 0.73999183 0.74979575 0.76143791\n",
            " 0.75428922 0.74754902 0.76960784 0.7495915  0.81719771 0.80208333\n",
            " 0.77736928 0.75714869 0.79370915 0.79166667 0.77144608 0.75265523\n",
            " 0.72691993 0.6629902  0.68198529 0.64419935 0.62152778 0.6439951\n",
            " 0.66319444 0.67544935 0.63705065 0.64603758 0.65890523 0.65870098\n",
            " 0.67790033 0.63194444 0.63112745 0.62785948 0.64767157 0.63991013\n",
            " 0.63480392 0.63868464 0.62336601 0.62745098 0.63970588 0.64705882\n",
            " 0.66196895 0.67075163 0.65196078 0.63112745 0.61294935 0.6376634\n",
            " 0.62254902 0.62745098 0.63337418 0.62642974 0.63623366 0.58312908\n",
            " 0.57781863 0.57230392 0.58006536 0.57618464 0.55167484 0.57883987\n",
            " 0.625      0.63582516 0.62949346 0.62888072 0.62765523 0.62234477\n",
            " 0.63378268 0.62622549 0.62214052 0.62418301 0.62366694 0.62303656\n",
            " 0.62214649 0.62108821 0.62006187 0.61914122]\n",
            "6 day output [[0.6183394]]\n",
            "7 day input [0.68035131 0.6689134  0.66421569 0.67892157 0.69138072 0.70894608\n",
            " 0.72263072 0.73406863 0.72120098 0.74979575 0.7689951  0.74468954\n",
            " 0.7120098  0.74673203 0.75490196 0.76041667 0.75980392 0.74652778\n",
            " 0.76245915 0.77062908 0.80412582 0.78104575 0.79411765 0.76021242\n",
            " 0.73488562 0.72406046 0.73999183 0.74979575 0.76143791 0.75428922\n",
            " 0.74754902 0.76960784 0.7495915  0.81719771 0.80208333 0.77736928\n",
            " 0.75714869 0.79370915 0.79166667 0.77144608 0.75265523 0.72691993\n",
            " 0.6629902  0.68198529 0.64419935 0.62152778 0.6439951  0.66319444\n",
            " 0.67544935 0.63705065 0.64603758 0.65890523 0.65870098 0.67790033\n",
            " 0.63194444 0.63112745 0.62785948 0.64767157 0.63991013 0.63480392\n",
            " 0.63868464 0.62336601 0.62745098 0.63970588 0.64705882 0.66196895\n",
            " 0.67075163 0.65196078 0.63112745 0.61294935 0.6376634  0.62254902\n",
            " 0.62745098 0.63337418 0.62642974 0.63623366 0.58312908 0.57781863\n",
            " 0.57230392 0.58006536 0.57618464 0.55167484 0.57883987 0.625\n",
            " 0.63582516 0.62949346 0.62888072 0.62765523 0.62234477 0.63378268\n",
            " 0.62622549 0.62214052 0.62418301 0.62366694 0.62303656 0.62214649\n",
            " 0.62108821 0.62006187 0.61914122 0.61833942]\n",
            "7 day output [[0.61764425]]\n",
            "8 day input [0.6689134  0.66421569 0.67892157 0.69138072 0.70894608 0.72263072\n",
            " 0.73406863 0.72120098 0.74979575 0.7689951  0.74468954 0.7120098\n",
            " 0.74673203 0.75490196 0.76041667 0.75980392 0.74652778 0.76245915\n",
            " 0.77062908 0.80412582 0.78104575 0.79411765 0.76021242 0.73488562\n",
            " 0.72406046 0.73999183 0.74979575 0.76143791 0.75428922 0.74754902\n",
            " 0.76960784 0.7495915  0.81719771 0.80208333 0.77736928 0.75714869\n",
            " 0.79370915 0.79166667 0.77144608 0.75265523 0.72691993 0.6629902\n",
            " 0.68198529 0.64419935 0.62152778 0.6439951  0.66319444 0.67544935\n",
            " 0.63705065 0.64603758 0.65890523 0.65870098 0.67790033 0.63194444\n",
            " 0.63112745 0.62785948 0.64767157 0.63991013 0.63480392 0.63868464\n",
            " 0.62336601 0.62745098 0.63970588 0.64705882 0.66196895 0.67075163\n",
            " 0.65196078 0.63112745 0.61294935 0.6376634  0.62254902 0.62745098\n",
            " 0.63337418 0.62642974 0.63623366 0.58312908 0.57781863 0.57230392\n",
            " 0.58006536 0.57618464 0.55167484 0.57883987 0.625      0.63582516\n",
            " 0.62949346 0.62888072 0.62765523 0.62234477 0.63378268 0.62622549\n",
            " 0.62214052 0.62418301 0.62366694 0.62303656 0.62214649 0.62108821\n",
            " 0.62006187 0.61914122 0.61833942 0.61764425]\n",
            "8 day output [[0.6170387]]\n",
            "9 day input [0.66421569 0.67892157 0.69138072 0.70894608 0.72263072 0.73406863\n",
            " 0.72120098 0.74979575 0.7689951  0.74468954 0.7120098  0.74673203\n",
            " 0.75490196 0.76041667 0.75980392 0.74652778 0.76245915 0.77062908\n",
            " 0.80412582 0.78104575 0.79411765 0.76021242 0.73488562 0.72406046\n",
            " 0.73999183 0.74979575 0.76143791 0.75428922 0.74754902 0.76960784\n",
            " 0.7495915  0.81719771 0.80208333 0.77736928 0.75714869 0.79370915\n",
            " 0.79166667 0.77144608 0.75265523 0.72691993 0.6629902  0.68198529\n",
            " 0.64419935 0.62152778 0.6439951  0.66319444 0.67544935 0.63705065\n",
            " 0.64603758 0.65890523 0.65870098 0.67790033 0.63194444 0.63112745\n",
            " 0.62785948 0.64767157 0.63991013 0.63480392 0.63868464 0.62336601\n",
            " 0.62745098 0.63970588 0.64705882 0.66196895 0.67075163 0.65196078\n",
            " 0.63112745 0.61294935 0.6376634  0.62254902 0.62745098 0.63337418\n",
            " 0.62642974 0.63623366 0.58312908 0.57781863 0.57230392 0.58006536\n",
            " 0.57618464 0.55167484 0.57883987 0.625      0.63582516 0.62949346\n",
            " 0.62888072 0.62765523 0.62234477 0.63378268 0.62622549 0.62214052\n",
            " 0.62418301 0.62366694 0.62303656 0.62214649 0.62108821 0.62006187\n",
            " 0.61914122 0.61833942 0.61764425 0.61703873]\n",
            "9 day output [[0.61650896]]\n",
            "10 day input [0.67892157 0.69138072 0.70894608 0.72263072 0.73406863 0.72120098\n",
            " 0.74979575 0.7689951  0.74468954 0.7120098  0.74673203 0.75490196\n",
            " 0.76041667 0.75980392 0.74652778 0.76245915 0.77062908 0.80412582\n",
            " 0.78104575 0.79411765 0.76021242 0.73488562 0.72406046 0.73999183\n",
            " 0.74979575 0.76143791 0.75428922 0.74754902 0.76960784 0.7495915\n",
            " 0.81719771 0.80208333 0.77736928 0.75714869 0.79370915 0.79166667\n",
            " 0.77144608 0.75265523 0.72691993 0.6629902  0.68198529 0.64419935\n",
            " 0.62152778 0.6439951  0.66319444 0.67544935 0.63705065 0.64603758\n",
            " 0.65890523 0.65870098 0.67790033 0.63194444 0.63112745 0.62785948\n",
            " 0.64767157 0.63991013 0.63480392 0.63868464 0.62336601 0.62745098\n",
            " 0.63970588 0.64705882 0.66196895 0.67075163 0.65196078 0.63112745\n",
            " 0.61294935 0.6376634  0.62254902 0.62745098 0.63337418 0.62642974\n",
            " 0.63623366 0.58312908 0.57781863 0.57230392 0.58006536 0.57618464\n",
            " 0.55167484 0.57883987 0.625      0.63582516 0.62949346 0.62888072\n",
            " 0.62765523 0.62234477 0.63378268 0.62622549 0.62214052 0.62418301\n",
            " 0.62366694 0.62303656 0.62214649 0.62108821 0.62006187 0.61914122\n",
            " 0.61833942 0.61764425 0.61703873 0.61650896]\n",
            "10 day output [[0.6160453]]\n",
            "11 day input [0.69138072 0.70894608 0.72263072 0.73406863 0.72120098 0.74979575\n",
            " 0.7689951  0.74468954 0.7120098  0.74673203 0.75490196 0.76041667\n",
            " 0.75980392 0.74652778 0.76245915 0.77062908 0.80412582 0.78104575\n",
            " 0.79411765 0.76021242 0.73488562 0.72406046 0.73999183 0.74979575\n",
            " 0.76143791 0.75428922 0.74754902 0.76960784 0.7495915  0.81719771\n",
            " 0.80208333 0.77736928 0.75714869 0.79370915 0.79166667 0.77144608\n",
            " 0.75265523 0.72691993 0.6629902  0.68198529 0.64419935 0.62152778\n",
            " 0.6439951  0.66319444 0.67544935 0.63705065 0.64603758 0.65890523\n",
            " 0.65870098 0.67790033 0.63194444 0.63112745 0.62785948 0.64767157\n",
            " 0.63991013 0.63480392 0.63868464 0.62336601 0.62745098 0.63970588\n",
            " 0.64705882 0.66196895 0.67075163 0.65196078 0.63112745 0.61294935\n",
            " 0.6376634  0.62254902 0.62745098 0.63337418 0.62642974 0.63623366\n",
            " 0.58312908 0.57781863 0.57230392 0.58006536 0.57618464 0.55167484\n",
            " 0.57883987 0.625      0.63582516 0.62949346 0.62888072 0.62765523\n",
            " 0.62234477 0.63378268 0.62622549 0.62214052 0.62418301 0.62366694\n",
            " 0.62303656 0.62214649 0.62108821 0.62006187 0.61914122 0.61833942\n",
            " 0.61764425 0.61703873 0.61650896 0.6160453 ]\n",
            "11 day output [[0.61564016]]\n",
            "12 day input [0.70894608 0.72263072 0.73406863 0.72120098 0.74979575 0.7689951\n",
            " 0.74468954 0.7120098  0.74673203 0.75490196 0.76041667 0.75980392\n",
            " 0.74652778 0.76245915 0.77062908 0.80412582 0.78104575 0.79411765\n",
            " 0.76021242 0.73488562 0.72406046 0.73999183 0.74979575 0.76143791\n",
            " 0.75428922 0.74754902 0.76960784 0.7495915  0.81719771 0.80208333\n",
            " 0.77736928 0.75714869 0.79370915 0.79166667 0.77144608 0.75265523\n",
            " 0.72691993 0.6629902  0.68198529 0.64419935 0.62152778 0.6439951\n",
            " 0.66319444 0.67544935 0.63705065 0.64603758 0.65890523 0.65870098\n",
            " 0.67790033 0.63194444 0.63112745 0.62785948 0.64767157 0.63991013\n",
            " 0.63480392 0.63868464 0.62336601 0.62745098 0.63970588 0.64705882\n",
            " 0.66196895 0.67075163 0.65196078 0.63112745 0.61294935 0.6376634\n",
            " 0.62254902 0.62745098 0.63337418 0.62642974 0.63623366 0.58312908\n",
            " 0.57781863 0.57230392 0.58006536 0.57618464 0.55167484 0.57883987\n",
            " 0.625      0.63582516 0.62949346 0.62888072 0.62765523 0.62234477\n",
            " 0.63378268 0.62622549 0.62214052 0.62418301 0.62366694 0.62303656\n",
            " 0.62214649 0.62108821 0.62006187 0.61914122 0.61833942 0.61764425\n",
            " 0.61703873 0.61650896 0.6160453  0.61564016]\n",
            "12 day output [[0.6152865]]\n",
            "13 day input [0.72263072 0.73406863 0.72120098 0.74979575 0.7689951  0.74468954\n",
            " 0.7120098  0.74673203 0.75490196 0.76041667 0.75980392 0.74652778\n",
            " 0.76245915 0.77062908 0.80412582 0.78104575 0.79411765 0.76021242\n",
            " 0.73488562 0.72406046 0.73999183 0.74979575 0.76143791 0.75428922\n",
            " 0.74754902 0.76960784 0.7495915  0.81719771 0.80208333 0.77736928\n",
            " 0.75714869 0.79370915 0.79166667 0.77144608 0.75265523 0.72691993\n",
            " 0.6629902  0.68198529 0.64419935 0.62152778 0.6439951  0.66319444\n",
            " 0.67544935 0.63705065 0.64603758 0.65890523 0.65870098 0.67790033\n",
            " 0.63194444 0.63112745 0.62785948 0.64767157 0.63991013 0.63480392\n",
            " 0.63868464 0.62336601 0.62745098 0.63970588 0.64705882 0.66196895\n",
            " 0.67075163 0.65196078 0.63112745 0.61294935 0.6376634  0.62254902\n",
            " 0.62745098 0.63337418 0.62642974 0.63623366 0.58312908 0.57781863\n",
            " 0.57230392 0.58006536 0.57618464 0.55167484 0.57883987 0.625\n",
            " 0.63582516 0.62949346 0.62888072 0.62765523 0.62234477 0.63378268\n",
            " 0.62622549 0.62214052 0.62418301 0.62366694 0.62303656 0.62214649\n",
            " 0.62108821 0.62006187 0.61914122 0.61833942 0.61764425 0.61703873\n",
            " 0.61650896 0.6160453  0.61564016 0.61528653]\n",
            "13 day output [[0.61497736]]\n",
            "14 day input [0.73406863 0.72120098 0.74979575 0.7689951  0.74468954 0.7120098\n",
            " 0.74673203 0.75490196 0.76041667 0.75980392 0.74652778 0.76245915\n",
            " 0.77062908 0.80412582 0.78104575 0.79411765 0.76021242 0.73488562\n",
            " 0.72406046 0.73999183 0.74979575 0.76143791 0.75428922 0.74754902\n",
            " 0.76960784 0.7495915  0.81719771 0.80208333 0.77736928 0.75714869\n",
            " 0.79370915 0.79166667 0.77144608 0.75265523 0.72691993 0.6629902\n",
            " 0.68198529 0.64419935 0.62152778 0.6439951  0.66319444 0.67544935\n",
            " 0.63705065 0.64603758 0.65890523 0.65870098 0.67790033 0.63194444\n",
            " 0.63112745 0.62785948 0.64767157 0.63991013 0.63480392 0.63868464\n",
            " 0.62336601 0.62745098 0.63970588 0.64705882 0.66196895 0.67075163\n",
            " 0.65196078 0.63112745 0.61294935 0.6376634  0.62254902 0.62745098\n",
            " 0.63337418 0.62642974 0.63623366 0.58312908 0.57781863 0.57230392\n",
            " 0.58006536 0.57618464 0.55167484 0.57883987 0.625      0.63582516\n",
            " 0.62949346 0.62888072 0.62765523 0.62234477 0.63378268 0.62622549\n",
            " 0.62214052 0.62418301 0.62366694 0.62303656 0.62214649 0.62108821\n",
            " 0.62006187 0.61914122 0.61833942 0.61764425 0.61703873 0.61650896\n",
            " 0.6160453  0.61564016 0.61528653 0.61497736]\n",
            "14 day output [[0.6147055]]\n",
            "15 day input [0.72120098 0.74979575 0.7689951  0.74468954 0.7120098  0.74673203\n",
            " 0.75490196 0.76041667 0.75980392 0.74652778 0.76245915 0.77062908\n",
            " 0.80412582 0.78104575 0.79411765 0.76021242 0.73488562 0.72406046\n",
            " 0.73999183 0.74979575 0.76143791 0.75428922 0.74754902 0.76960784\n",
            " 0.7495915  0.81719771 0.80208333 0.77736928 0.75714869 0.79370915\n",
            " 0.79166667 0.77144608 0.75265523 0.72691993 0.6629902  0.68198529\n",
            " 0.64419935 0.62152778 0.6439951  0.66319444 0.67544935 0.63705065\n",
            " 0.64603758 0.65890523 0.65870098 0.67790033 0.63194444 0.63112745\n",
            " 0.62785948 0.64767157 0.63991013 0.63480392 0.63868464 0.62336601\n",
            " 0.62745098 0.63970588 0.64705882 0.66196895 0.67075163 0.65196078\n",
            " 0.63112745 0.61294935 0.6376634  0.62254902 0.62745098 0.63337418\n",
            " 0.62642974 0.63623366 0.58312908 0.57781863 0.57230392 0.58006536\n",
            " 0.57618464 0.55167484 0.57883987 0.625      0.63582516 0.62949346\n",
            " 0.62888072 0.62765523 0.62234477 0.63378268 0.62622549 0.62214052\n",
            " 0.62418301 0.62366694 0.62303656 0.62214649 0.62108821 0.62006187\n",
            " 0.61914122 0.61833942 0.61764425 0.61703873 0.61650896 0.6160453\n",
            " 0.61564016 0.61528653 0.61497736 0.6147055 ]\n",
            "15 day output [[0.614464]]\n",
            "16 day input [0.74979575 0.7689951  0.74468954 0.7120098  0.74673203 0.75490196\n",
            " 0.76041667 0.75980392 0.74652778 0.76245915 0.77062908 0.80412582\n",
            " 0.78104575 0.79411765 0.76021242 0.73488562 0.72406046 0.73999183\n",
            " 0.74979575 0.76143791 0.75428922 0.74754902 0.76960784 0.7495915\n",
            " 0.81719771 0.80208333 0.77736928 0.75714869 0.79370915 0.79166667\n",
            " 0.77144608 0.75265523 0.72691993 0.6629902  0.68198529 0.64419935\n",
            " 0.62152778 0.6439951  0.66319444 0.67544935 0.63705065 0.64603758\n",
            " 0.65890523 0.65870098 0.67790033 0.63194444 0.63112745 0.62785948\n",
            " 0.64767157 0.63991013 0.63480392 0.63868464 0.62336601 0.62745098\n",
            " 0.63970588 0.64705882 0.66196895 0.67075163 0.65196078 0.63112745\n",
            " 0.61294935 0.6376634  0.62254902 0.62745098 0.63337418 0.62642974\n",
            " 0.63623366 0.58312908 0.57781863 0.57230392 0.58006536 0.57618464\n",
            " 0.55167484 0.57883987 0.625      0.63582516 0.62949346 0.62888072\n",
            " 0.62765523 0.62234477 0.63378268 0.62622549 0.62214052 0.62418301\n",
            " 0.62366694 0.62303656 0.62214649 0.62108821 0.62006187 0.61914122\n",
            " 0.61833942 0.61764425 0.61703873 0.61650896 0.6160453  0.61564016\n",
            " 0.61528653 0.61497736 0.6147055  0.61446398]\n",
            "16 day output [[0.6142469]]\n",
            "17 day input [0.7689951  0.74468954 0.7120098  0.74673203 0.75490196 0.76041667\n",
            " 0.75980392 0.74652778 0.76245915 0.77062908 0.80412582 0.78104575\n",
            " 0.79411765 0.76021242 0.73488562 0.72406046 0.73999183 0.74979575\n",
            " 0.76143791 0.75428922 0.74754902 0.76960784 0.7495915  0.81719771\n",
            " 0.80208333 0.77736928 0.75714869 0.79370915 0.79166667 0.77144608\n",
            " 0.75265523 0.72691993 0.6629902  0.68198529 0.64419935 0.62152778\n",
            " 0.6439951  0.66319444 0.67544935 0.63705065 0.64603758 0.65890523\n",
            " 0.65870098 0.67790033 0.63194444 0.63112745 0.62785948 0.64767157\n",
            " 0.63991013 0.63480392 0.63868464 0.62336601 0.62745098 0.63970588\n",
            " 0.64705882 0.66196895 0.67075163 0.65196078 0.63112745 0.61294935\n",
            " 0.6376634  0.62254902 0.62745098 0.63337418 0.62642974 0.63623366\n",
            " 0.58312908 0.57781863 0.57230392 0.58006536 0.57618464 0.55167484\n",
            " 0.57883987 0.625      0.63582516 0.62949346 0.62888072 0.62765523\n",
            " 0.62234477 0.63378268 0.62622549 0.62214052 0.62418301 0.62366694\n",
            " 0.62303656 0.62214649 0.62108821 0.62006187 0.61914122 0.61833942\n",
            " 0.61764425 0.61703873 0.61650896 0.6160453  0.61564016 0.61528653\n",
            " 0.61497736 0.6147055  0.61446398 0.6142469 ]\n",
            "17 day output [[0.6140484]]\n",
            "18 day input [0.74468954 0.7120098  0.74673203 0.75490196 0.76041667 0.75980392\n",
            " 0.74652778 0.76245915 0.77062908 0.80412582 0.78104575 0.79411765\n",
            " 0.76021242 0.73488562 0.72406046 0.73999183 0.74979575 0.76143791\n",
            " 0.75428922 0.74754902 0.76960784 0.7495915  0.81719771 0.80208333\n",
            " 0.77736928 0.75714869 0.79370915 0.79166667 0.77144608 0.75265523\n",
            " 0.72691993 0.6629902  0.68198529 0.64419935 0.62152778 0.6439951\n",
            " 0.66319444 0.67544935 0.63705065 0.64603758 0.65890523 0.65870098\n",
            " 0.67790033 0.63194444 0.63112745 0.62785948 0.64767157 0.63991013\n",
            " 0.63480392 0.63868464 0.62336601 0.62745098 0.63970588 0.64705882\n",
            " 0.66196895 0.67075163 0.65196078 0.63112745 0.61294935 0.6376634\n",
            " 0.62254902 0.62745098 0.63337418 0.62642974 0.63623366 0.58312908\n",
            " 0.57781863 0.57230392 0.58006536 0.57618464 0.55167484 0.57883987\n",
            " 0.625      0.63582516 0.62949346 0.62888072 0.62765523 0.62234477\n",
            " 0.63378268 0.62622549 0.62214052 0.62418301 0.62366694 0.62303656\n",
            " 0.62214649 0.62108821 0.62006187 0.61914122 0.61833942 0.61764425\n",
            " 0.61703873 0.61650896 0.6160453  0.61564016 0.61528653 0.61497736\n",
            " 0.6147055  0.61446398 0.6142469  0.61404842]\n",
            "18 day output [[0.6138643]]\n",
            "19 day input [0.7120098  0.74673203 0.75490196 0.76041667 0.75980392 0.74652778\n",
            " 0.76245915 0.77062908 0.80412582 0.78104575 0.79411765 0.76021242\n",
            " 0.73488562 0.72406046 0.73999183 0.74979575 0.76143791 0.75428922\n",
            " 0.74754902 0.76960784 0.7495915  0.81719771 0.80208333 0.77736928\n",
            " 0.75714869 0.79370915 0.79166667 0.77144608 0.75265523 0.72691993\n",
            " 0.6629902  0.68198529 0.64419935 0.62152778 0.6439951  0.66319444\n",
            " 0.67544935 0.63705065 0.64603758 0.65890523 0.65870098 0.67790033\n",
            " 0.63194444 0.63112745 0.62785948 0.64767157 0.63991013 0.63480392\n",
            " 0.63868464 0.62336601 0.62745098 0.63970588 0.64705882 0.66196895\n",
            " 0.67075163 0.65196078 0.63112745 0.61294935 0.6376634  0.62254902\n",
            " 0.62745098 0.63337418 0.62642974 0.63623366 0.58312908 0.57781863\n",
            " 0.57230392 0.58006536 0.57618464 0.55167484 0.57883987 0.625\n",
            " 0.63582516 0.62949346 0.62888072 0.62765523 0.62234477 0.63378268\n",
            " 0.62622549 0.62214052 0.62418301 0.62366694 0.62303656 0.62214649\n",
            " 0.62108821 0.62006187 0.61914122 0.61833942 0.61764425 0.61703873\n",
            " 0.61650896 0.6160453  0.61564016 0.61528653 0.61497736 0.6147055\n",
            " 0.61446398 0.6142469  0.61404842 0.6138643 ]\n",
            "19 day output [[0.61369103]]\n",
            "20 day input [0.74673203 0.75490196 0.76041667 0.75980392 0.74652778 0.76245915\n",
            " 0.77062908 0.80412582 0.78104575 0.79411765 0.76021242 0.73488562\n",
            " 0.72406046 0.73999183 0.74979575 0.76143791 0.75428922 0.74754902\n",
            " 0.76960784 0.7495915  0.81719771 0.80208333 0.77736928 0.75714869\n",
            " 0.79370915 0.79166667 0.77144608 0.75265523 0.72691993 0.6629902\n",
            " 0.68198529 0.64419935 0.62152778 0.6439951  0.66319444 0.67544935\n",
            " 0.63705065 0.64603758 0.65890523 0.65870098 0.67790033 0.63194444\n",
            " 0.63112745 0.62785948 0.64767157 0.63991013 0.63480392 0.63868464\n",
            " 0.62336601 0.62745098 0.63970588 0.64705882 0.66196895 0.67075163\n",
            " 0.65196078 0.63112745 0.61294935 0.6376634  0.62254902 0.62745098\n",
            " 0.63337418 0.62642974 0.63623366 0.58312908 0.57781863 0.57230392\n",
            " 0.58006536 0.57618464 0.55167484 0.57883987 0.625      0.63582516\n",
            " 0.62949346 0.62888072 0.62765523 0.62234477 0.63378268 0.62622549\n",
            " 0.62214052 0.62418301 0.62366694 0.62303656 0.62214649 0.62108821\n",
            " 0.62006187 0.61914122 0.61833942 0.61764425 0.61703873 0.61650896\n",
            " 0.6160453  0.61564016 0.61528653 0.61497736 0.6147055  0.61446398\n",
            " 0.6142469  0.61404842 0.6138643  0.61369103]\n",
            "20 day output [[0.61352587]]\n",
            "[[0.6236669421195984], [0.6230365633964539], [0.622146487236023], [0.6210882067680359], [0.6200618743896484], [0.6191412210464478], [0.6183394193649292], [0.6176442503929138], [0.6170387268066406], [0.616508960723877], [0.6160452961921692], [0.6156401634216309], [0.6152865290641785], [0.6149773597717285], [0.614705502986908], [0.6144639849662781], [0.6142469048500061], [0.614048421382904], [0.6138643026351929], [0.6136910319328308], [0.6135258674621582]]\n"
          ]
        }
      ]
    },
    {
      "cell_type": "code",
      "metadata": {
        "colab": {
          "base_uri": "https://localhost:8080/",
          "height": 282
        },
        "id": "WNr_XqiaIZsW",
        "outputId": "b8381297-e985-41f6-8ee6-453c40fb8e9a"
      },
      "source": [
        "\n",
        "df = df1.tolist()\n",
        "df.extend(output)\n",
        "df=scale.inverse_transform(df).tolist()\n",
        "plt.plot(df)"
      ],
      "execution_count": 42,
      "outputs": [
        {
          "output_type": "execute_result",
          "data": {
            "text/plain": [
              "[<matplotlib.lines.Line2D at 0x7f3fed689790>]"
            ]
          },
          "metadata": {},
          "execution_count": 42
        },
        {
          "output_type": "display_data",
          "data": {
            "image/png": "[encoded data removed]",
            "text/plain": [
              "<Figure size 432x288 with 1 Axes>"
            ]
          },
          "metadata": {
            "needs_background": "light"
          }
        }
      ]
    },
    {
      "cell_type": "code",
      "metadata": {
        "id": "Gb3kzsOGIapk"
      },
      "source": [
        ""
      ],
      "execution_count": 42,
      "outputs": []
    }
  ]
}